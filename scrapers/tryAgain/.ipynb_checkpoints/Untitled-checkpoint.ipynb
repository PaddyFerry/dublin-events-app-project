{
 "cells": [
  {
   "cell_type": "code",
   "execution_count": 1,
   "metadata": {},
   "outputs": [],
   "source": [
    "from selenium import webdriver\n",
    "from bs4 import BeautifulSoup as soup\n",
    "from time import sleep\n",
    "import requests"
   ]
  },
  {
   "cell_type": "code",
   "execution_count": 2,
   "metadata": {},
   "outputs": [],
   "source": [
    "driver = webdriver.Firefox()"
   ]
  },
  {
   "cell_type": "code",
   "execution_count": 3,
   "metadata": {},
   "outputs": [],
   "source": [
    "url = \"https://www.google.ie/search?dcr=0&q=pubs+in+dublin&npsic=0&rflfq=1&rlha=0&rllag=53375801,-6375625,1731&tbm=lcl&ved=0ahUKEwiU5u_T1rTZAhWJDsAKHcstDzoQjGoIYg&tbs=lrf:!2m1!1e2!2m1!1e3!3sIAE,lf:1,lf_ui:9&rldoc=1&biw=1268&bih=607\""
   ]
  },
  {
   "cell_type": "code",
   "execution_count": 4,
   "metadata": {},
   "outputs": [],
   "source": [
    "driver.close()"
   ]
  },
  {
   "cell_type": "code",
   "execution_count": 4,
   "metadata": {},
   "outputs": [],
   "source": [
    "driver.get(url)"
   ]
  },
  {
   "cell_type": "code",
   "execution_count": 8,
   "metadata": {},
   "outputs": [
    {
     "ename": "AttributeError",
     "evalue": "'WebDriver' object has no attribute 'click'",
     "output_type": "error",
     "traceback": [
      "\u001b[1;31m---------------------------------------------------------------------------\u001b[0m",
      "\u001b[1;31mAttributeError\u001b[0m                            Traceback (most recent call last)",
      "\u001b[1;32m<ipython-input-8-ed3fc95654b7>\u001b[0m in \u001b[0;36m<module>\u001b[1;34m()\u001b[0m\n\u001b[1;32m----> 1\u001b[1;33m \u001b[0mdriver\u001b[0m\u001b[1;33m.\u001b[0m\u001b[0mclick\u001b[0m\u001b[1;33m(\u001b[0m\u001b[1;33m)\u001b[0m\u001b[1;33m\u001b[0m\u001b[0m\n\u001b[0m",
      "\u001b[1;31mAttributeError\u001b[0m: 'WebDriver' object has no attribute 'click'"
     ]
    }
   ],
   "source": [
    "driver.click()"
   ]
  },
  {
   "cell_type": "code",
   "execution_count": 5,
   "metadata": {},
   "outputs": [],
   "source": [
    "l = driver.find_elements_by_class_name('_gt')"
   ]
  },
  {
   "cell_type": "code",
   "execution_count": 11,
   "metadata": {},
   "outputs": [
    {
     "data": {
      "text/plain": [
       "22"
      ]
     },
     "execution_count": 11,
     "metadata": {},
     "output_type": "execute_result"
    }
   ],
   "source": [
    "len(l)"
   ]
  },
  {
   "cell_type": "code",
   "execution_count": 13,
   "metadata": {},
   "outputs": [],
   "source": [
    "l[0].click()"
   ]
  },
  {
   "cell_type": "code",
   "execution_count": 14,
   "metadata": {},
   "outputs": [],
   "source": [
    "x = driver.find_element_by_class_name(\"_OKe\")"
   ]
  },
  {
   "cell_type": "code",
   "execution_count": 23,
   "metadata": {},
   "outputs": [
    {
     "data": {
      "text/plain": [
       "u\"The Church\\nWebsiteDirections\\n4.3\\n2,577 Google reviews\\nBar\\nSympathetic conversion of imposing church with cafe/bar and Irish restaurant surrounded by terraces.\\nAddress: Junction of Mary St. and Jervis St., Dublin 1, Dublin, D01YX64\\nHours: Open \\u22c5 Closes 11 p.m.\\nReservations: thechurch.ie\\nPhone: (01) 828 0102\\nSuggest an edit\\nEvents\\nSat, Mar 17\\n12:00 AM\\nSt Patricks Day in Dublin 2018\\nSat, Mar 31\\n1:00 AM\\nTedFest Dublin 2018 | in association with The Church\\nSat, Jul 14\\n5:00 PM\\nBastille Day 2018\\nQuestions & answers\\nAsk a question\\nQ: R u showing the england game and if so do u allow childrem??\\n(No answers)\\nSee all questions (5)\\nPopular times\\nTuesdays\\n9a\\n12p\\n3p\\n6p\\n9p\\nLive: Not too busy\\n9a\\n12p\\n3p\\n6p\\n9p\\n9a\\n12p\\n3p\\n6p\\n9p\\nPlan your visit\\nPeople typically spend 1-2.5 hours here\\nMore photos\\nWrite a review\\nReview summary\\n5 \\u2605\\n4 \\u2605\\n3 \\u2605\\n2 \\u2605\\n1 \\u2605\\n4.3\\n2,577 reviews\\nGoogle reviews\\nSheldon Led\\nLocal Guide\\u2009\\xb7\\u200933 reviews\\u2009\\xb7\\u200986 photos\\n3 weeks ago\\nAmazing place. It was an actual church and the structure is kept almost the same. It has an amazing outside area when it's summer ( it's there the whole year, but people just prefer not to stay there due to the coldness of course) \\u2026More\\n\\n\\n\\nLike\\nSimon Klees\\nLocal Guide\\u2009\\xb7\\u200920 reviews\\u2009\\xb7\\u20095 photos\\n4 weeks ago\\nNice place, great food, friendly waitress at our table but unpleasant hostess upstairs. Johanna was our waitress during supper; super friendly and kind. We wanted to have a look at the church from higher up so she told us we could enjoy the \\u2026More\\nLike\\nPhilip Bergqvist\\nLocal Guide\\u2009\\xb7\\u2009125 reviews\\u2009\\xb7\\u2009107 photos\\na week ago\\nI spent my first dinner in Dublin here and really enjoyed it. I decided to eat in the restaurant on the second floor (but the pub area on the first floor also serves food). Food was good, service was great, and the atmosphere was fantastic. There was live Irish music from around 7pm. I would highly recommend!\\nLike\\nMore Google reviews\\nPeople also search for\\nView 15+ more\\nThe Temple Bar\\nPub\\nChrist Church Cathedral\\nCathedral\\nO'Neills Pub & Kitchen, Suffolk Street\\nIrish Pub\\nThe Brazen Head\\nIrish Pub\\nSt Michan's Church\\nChurch\\nWeb results\\nThe Church | Caf\\xe9, Bar, Restaurant, Attraction | Dublin Ireland\\nthechurch.ie/\\nExperience one of the most unique Bar and Restaurants in the world. The Church\\nis a Cafe, Bar and modern Irish Restaurant surrounded by sun filled terraces,\\nsteeped in rich History and connected to some of Ireland's Greats.\\nThe Church, Dublin - Restaurant Reviews, Phone Number & Photos ...\\nhttps://www.tripadvisor.ie/Restaurant_Review-g186605-d792839-Re...\\nThe Church, Dublin: See 4170 unbiased reviews of The Church, rated 4.5 of 5 on\\nTripAdvisor and ranked #107 of 2730 restaurants in Dublin.\\nThe Church Restaurant - Mary Street - DublinTown\\nhttps://www.dublintown.ie/business/the-church/\\nThe Church is a Cafe, Bar and modern Irish Restaurant surrounded by sun filled\\nterraces, steeped in rich History and connected to some of Ireland's Greats. The\\n17th Century, 320 year old Church stands tall and proud on the corner of Mary &\\nJervis Street, Dublin 1, and is a hive of activity, bringing cultures, friends &\\nfamilies ...\""
      ]
     },
     "execution_count": 23,
     "metadata": {},
     "output_type": "execute_result"
    }
   ],
   "source": [
    "x.text"
   ]
  },
  {
   "cell_type": "code",
   "execution_count": 24,
   "metadata": {},
   "outputs": [],
   "source": [
    "text = x.text"
   ]
  },
  {
   "cell_type": "code",
   "execution_count": 27,
   "metadata": {},
   "outputs": [
    {
     "data": {
      "text/plain": [
       "[u'The Church',\n",
       " u'WebsiteDirections',\n",
       " u'4.3',\n",
       " u'2,577 Google reviews',\n",
       " u'Bar',\n",
       " u'Sympathetic conversion of imposing church with cafe/bar and Irish restaurant surrounded by terraces.',\n",
       " u'Address: Junction of Mary St. and Jervis St., Dublin 1, Dublin, D01YX64',\n",
       " u'Hours: Open \\u22c5 Closes 11 p.m.',\n",
       " u'Reservations: thechurch.ie',\n",
       " u'Phone: (01) 828 0102']"
      ]
     },
     "execution_count": 27,
     "metadata": {},
     "output_type": "execute_result"
    }
   ],
   "source": [
    "text.split(\"\\n\")[:10]"
   ]
  },
  {
   "cell_type": "code",
   "execution_count": 32,
   "metadata": {},
   "outputs": [
    {
     "data": {
      "text/plain": [
       "[u'Strawberry Hall Pub',\n",
       " u'WebsiteDirections',\n",
       " u'4.6',\n",
       " u'92 Google reviews',\n",
       " u'Irish Pub',\n",
       " u'Address: Chapelizod, Dublin',\n",
       " u'Hours: Open \\u22c5 Closes 11:30 p.m.',\n",
       " u'Phone: (01) 821 3002',\n",
       " u'Suggest an edit',\n",
       " u'Questions & answers']"
      ]
     },
     "execution_count": 32,
     "metadata": {},
     "output_type": "execute_result"
    }
   ],
   "source": [
    "l[2].click()\n",
    "sleep(.5)\n",
    "x = driver.find_element_by_class_name(\"_OKe\")\n",
    "text = x.text\n",
    "text.split(\"\\n\")[:10]"
   ]
  },
  {
   "cell_type": "code",
   "execution_count": 33,
   "metadata": {},
   "outputs": [
    {
     "data": {
      "text/plain": [
       "[u'The Great Wood',\n",
       " u'WebsiteDirections',\n",
       " u'4.0',\n",
       " u'636 Google reviews',\n",
       " u'Restaurant',\n",
       " u'Address: Westend Retail Park, Blanchardstown, Dublin 15',\n",
       " u'Hours: Open \\u22c5 Closes 11:30 p.m.',\n",
       " u'Phone: (01) 826 2496',\n",
       " u'Suggest an edit',\n",
       " u'Questions & answers']"
      ]
     },
     "execution_count": 33,
     "metadata": {},
     "output_type": "execute_result"
    }
   ],
   "source": [
    "l[3].click()\n",
    "sleep(.5)\n",
    "x = driver.find_element_by_class_name(\"_OKe\")\n",
    "text = x.text\n",
    "text.split(\"\\n\")[:10]"
   ]
  },
  {
   "cell_type": "code",
   "execution_count": 8,
   "metadata": {},
   "outputs": [
    {
     "name": "stdout",
     "output_type": "stream",
     "text": [
      "[u'Strawberry Hall Pub', u'WebsiteDirections', u'4.6', u'92 Google reviews', u'Irish Pub', u'Address: Chapelizod, Dublin', u'Hours: Open \\u22c5 Closes 11:30 p.m.', u'Phone: (01) 821 3002', u'Suggest an edit', u'Questions & answers']\n"
     ]
    }
   ],
   "source": [
    "l[1].click()\n",
    "sleep(.5)\n",
    "x = driver.find_element_by_class_name(\"_OKe\")\n",
    "text = x.text\n",
    "la = text.split(\"\\n\")[:10]\n",
    "print(la)"
   ]
  },
  {
   "cell_type": "code",
   "execution_count": 9,
   "metadata": {},
   "outputs": [],
   "source": [
    "def get_deetz(foo):\n",
    "    (name, rating, category) = foo[0], foo[2], foo[4]\n",
    "    for line in foo:\n",
    "        if \"Address: \" in line:\n",
    "            address = line\n",
    "        elif \"Phone: \" in line:\n",
    "            phone = line\n",
    "    return (name, rating, category, phone, address)"
   ]
  },
  {
   "cell_type": "code",
   "execution_count": 10,
   "metadata": {},
   "outputs": [
    {
     "data": {
      "text/plain": [
       "(u'Strawberry Hall Pub',\n",
       " u'4.6',\n",
       " u'Irish Pub',\n",
       " u'Phone: (01) 821 3002',\n",
       " u'Address: Chapelizod, Dublin')"
      ]
     },
     "execution_count": 10,
     "metadata": {},
     "output_type": "execute_result"
    }
   ],
   "source": [
    "get_deetz(la)"
   ]
  },
  {
   "cell_type": "code",
   "execution_count": 52,
   "metadata": {},
   "outputs": [
    {
     "name": "stdout",
     "output_type": "stream",
     "text": [
      "(u'The Church', u'4.3', u'Bar', u'Phone: (01) 828 0102', u'Address: Junction of Mary St. and Jervis St., Dublin 1, Dublin, D01YX64')\n",
      "(u'Castle Hotel', u'4.1', u'3-star hotel', u'Phone: (01) 874 6949', u'Address: Gardiner Row, Gt Denmark Street, Dublin 1, D01 R640')\n",
      "(u'Strawberry Hall Pub', u'4.6', u'Irish Pub', u'Phone: (01) 821 3002', u'Address: Chapelizod, Dublin')\n",
      "(u'The Great Wood', u'4.0', u'Restaurant', u'Phone: (01) 826 2496', u'Address: Westend Retail Park, Blanchardstown, Dublin 15')\n",
      "(u'Myos', u'3.6', u'Pub', u'Phone: (01) 821 0529', u'Address: Main Street, Castleknock, Dublin 15')\n",
      "(u'The Bell Bar and Restaurant', u'4.2', u'Irish Pub', u'Phone: (01) 820 0158', u'Address: 15 Castleknock Rd, Blanchardstown, Dublin')\n",
      "(u'Halfway House', u'4.3', u'Pub', u'Phone: (01) 838 3218', u'Address: Navan Rd, Ashtown, Dublin')\n",
      "(u\"Eleanora's Bar & Lounge\", u'4.4', u'Pub', u'Phone: (01) 455 7928', u'Address: 147 Drimnagh Rd, Walkinstown, Dublin')\n",
      "(u'Old Royal Oak', u'4.6', u'Pub', u'Phone: (01) 671 3967', u'Address: 11 Kilmainham Ln, Ushers, Dublin, 8')\n",
      "(u\"Ryan's F.X.Buckley\", u'4.5', u'Steak House', u'Phone: (01) 677 6097', u'Address: 28 Parkgate St, Arran Quay, Dublin 8')\n",
      "(u\"Morton's Pub\", u'4.0', u'Karaoke Bar', u'Phone: (01) 494 6361', u'Address: Firhouse Rd, Knocklyon, Dublin 24')\n",
      "(u'The Glimmer Man', u'4.4', u'Pub', u'Phone: (01) 677 9781', u'Address: 14 Stoneybatter, Arran Quay, Dublin 7')\n",
      "(u\"Arthur's Pub\", u'4.4', u'Jazz Club', u'Phone: (01) 402 0914', u'Address: 28 Thomas St, Ushers, Dublin')\n",
      "(u'Dice Bar', u'4.4', u'Bar', u'Phone: (01) 633 3936', u'Address: 79 Queen St, Arran Quay, Dublin 7')\n",
      "(u'Bakers Irish Pub & Restaurant', u'4.1', u'Bar', u'Phone: (01) 473 6789', u'Address: 48 Thomas St, Merchants Quay, Dublin 8')\n",
      "(u'The Cobblestone', u'4.6', u'Bar', u'Phone: (01) 872 1799', u'Address: 77 King St N, Smithfield, Dublin 7, D07 TP22')\n",
      "(u'The Brazen Head', u'4.5', u'Irish Pub', u'Phone: (01) 677 9549', u'Address: 20 Lower Bridge St, Merchants Quay, Dublin 8, D08 WC64')\n",
      "(u'John Fallon\\'s \"The Capstan Bar\"', u'4.5', u'Pub', u'Phone: (01) 454 2801', u'Address: 129 The Coombe, Merchants Quay, Dublin 8')\n",
      "(u'MVP', u'4.3', u'Pub', u'Phone: (01) 558 2158', u'Address: 29 Upper Clanbrassil, Merchants Quay, Dublin 8, D08 E1X9')\n",
      "(u'John Kavanagh', u'4.6', u'Pub', u'Phone: (01) 830 7978', u'Address: 1 Prospect Square, Glasnevin, Dublin, D09 CF72')\n",
      "(u'Lord Edward', u'4.3', u'Pub', u'Phone: (01) 454 2158', u'Address: 23 Christchurch Pl, Wood Quay, Dublin')\n",
      "(u\"The Boar's Head Dublin\", u'4.1', u'Pub', u'Phone: (01) 872 3107', u'Address: 149 Capel St, North City, Dublin')\n"
     ]
    }
   ],
   "source": [
    "for pub in l:\n",
    "    pub.click()\n",
    "    sleep(1)\n",
    "    info = driver.find_element_by_class_name(\"_OKe\").text.split(\"\\n\")[:10]\n",
    "    print(get_deetz(info))"
   ]
  },
  {
   "cell_type": "code",
   "execution_count": 11,
   "metadata": {},
   "outputs": [],
   "source": [
    "driver.close()\n"
   ]
  },
  {
   "cell_type": "code",
   "execution_count": null,
   "metadata": {},
   "outputs": [],
   "source": []
  }
 ],
 "metadata": {
  "kernelspec": {
   "display_name": "Python 2",
   "language": "python",
   "name": "python2"
  },
  "language_info": {
   "codemirror_mode": {
    "name": "ipython",
    "version": 2
   },
   "file_extension": ".py",
   "mimetype": "text/x-python",
   "name": "python",
   "nbconvert_exporter": "python",
   "pygments_lexer": "ipython2",
   "version": "2.7.14"
  }
 },
 "nbformat": 4,
 "nbformat_minor": 2
}
