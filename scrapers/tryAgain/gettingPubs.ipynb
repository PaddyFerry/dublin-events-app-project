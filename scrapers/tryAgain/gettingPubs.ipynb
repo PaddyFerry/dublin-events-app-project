{
 "cells": [
  {
   "cell_type": "code",
   "execution_count": 2,
   "metadata": {},
   "outputs": [],
   "source": [
    "from selenium import webdriver\n",
    "from bs4 import BeautifulSoup as soup\n",
    "import requests\n",
    "from time import sleep"
   ]
  },
  {
   "cell_type": "code",
   "execution_count": 3,
   "metadata": {},
   "outputs": [],
   "source": [
    "driver = webdriver.Firefox()"
   ]
  },
  {
   "cell_type": "code",
   "execution_count": 4,
   "metadata": {},
   "outputs": [],
   "source": [
    "url = \"https://www.google.ie/search?dcr=0&q=pubs+in+dublin&npsic=0&rflfq=1&rlha=0&rllag=53375801,-6375625,1731&tbm=lcl&ved=0ahUKEwiU5u_T1rTZAhWJDsAKHcstDzoQjGoIYg&tbs=lrf:!2m1!1e2!2m1!1e3!3sIAE,lf:1,lf_ui:9&rldoc=1&biw=1268&bih=607\""
   ]
  },
  {
   "cell_type": "code",
   "execution_count": 5,
   "metadata": {},
   "outputs": [],
   "source": [
    "driver.get(url)"
   ]
  },
  {
   "cell_type": "code",
   "execution_count": 6,
   "metadata": {},
   "outputs": [],
   "source": [
    "re = requests.get(url)"
   ]
  },
  {
   "cell_type": "code",
   "execution_count": 7,
   "metadata": {},
   "outputs": [],
   "source": [
    "html2 = soup(re.content, \"html5lib\")"
   ]
  },
  {
   "cell_type": "code",
   "execution_count": 8,
   "metadata": {},
   "outputs": [],
   "source": [
    "html = soup(driver.page_source, \"html5lib\")"
   ]
  },
  {
   "cell_type": "code",
   "execution_count": 9,
   "metadata": {},
   "outputs": [
    {
     "data": {
      "text/plain": [
       "False"
      ]
     },
     "execution_count": 9,
     "metadata": {},
     "output_type": "execute_result"
    }
   ],
   "source": [
    "html == html2"
   ]
  },
  {
   "cell_type": "code",
   "execution_count": 10,
   "metadata": {},
   "outputs": [],
   "source": [
    "pub_names = html.find_all(\"div\", {\"class\": \"_gt\"})"
   ]
  },
  {
   "cell_type": "code",
   "execution_count": 12,
   "metadata": {
    "scrolled": true
   },
   "outputs": [
    {
     "data": {
      "text/plain": [
       "21"
      ]
     },
     "execution_count": 12,
     "metadata": {},
     "output_type": "execute_result"
    }
   ],
   "source": [
    "len(pub_names)"
   ]
  },
  {
   "cell_type": "code",
   "execution_count": 41,
   "metadata": {},
   "outputs": [],
   "source": [
    "names = []\n",
    "for box in pub_names:\n",
    "    names.append(box.find(\"div\", {\"class\": \"_rl\"}).get_text())"
   ]
  },
  {
   "cell_type": "code",
   "execution_count": 43,
   "metadata": {},
   "outputs": [
    {
     "data": {
      "text/plain": [
       "[u'The Church',\n",
       " u'Strawberry Hall Pub',\n",
       " u'The Great Wood',\n",
       " u'Myos',\n",
       " u'The Bell Bar and Restaurant',\n",
       " u'Halfway House',\n",
       " u'Old Royal Oak',\n",
       " u\"Ryan's F.X.Buckley\",\n",
       " u'Kavanaghs Pub',\n",
       " u\"Morton's Pub\",\n",
       " u'The Glimmer Man',\n",
       " u\"Arthur's Pub\",\n",
       " u'Dice Bar',\n",
       " u'Bakers Irish Pub & Restaurant',\n",
       " u'The Cobblestone',\n",
       " u'The Brazen Head',\n",
       " u'John Fallon\\'s \"The Capstan Bar\"',\n",
       " u'John Kavanagh',\n",
       " u'Lord Edward',\n",
       " u\"The Boar's Head Dublin\",\n",
       " u\"Slattery's Bar\"]"
      ]
     },
     "execution_count": 43,
     "metadata": {},
     "output_type": "execute_result"
    }
   ],
   "source": [
    "names"
   ]
  },
  {
   "cell_type": "code",
   "execution_count": 47,
   "metadata": {},
   "outputs": [],
   "source": [
    "nextpage = html.find(\"a\", {\"id\": \"pnnext\"}).get(\"href\")"
   ]
  },
  {
   "cell_type": "code",
   "execution_count": 48,
   "metadata": {},
   "outputs": [],
   "source": [
    "driver.get(\"http://www.google.ie\"+ nextpage)"
   ]
  },
  {
   "cell_type": "code",
   "execution_count": 53,
   "metadata": {},
   "outputs": [
    {
     "name": "stdout",
     "output_type": "stream",
     "text": [
      "[u'The Church', u'Strawberry Hall Pub', u'The Great Wood', u'Myos', u'The Bell Bar and Restaurant', u'Halfway House', u'Old Royal Oak', u\"Ryan's F.X.Buckley\", u'Kavanaghs Pub', u\"Morton's Pub\", u'The Glimmer Man', u\"Arthur's Pub\", u'Dice Bar', u'Bakers Irish Pub & Restaurant', u'The Cobblestone', u'The Brazen Head', u'John Fallon\\'s \"The Capstan Bar\"', u'John Kavanagh', u'Lord Edward', u\"The Boar's Head Dublin\", u\"Slattery's Bar\", u'Porterhouse Temple Bar', u'The Oak', u'The Long Hall', u'TP Smiths', u\"Peadar Kearney's\", u\"The Stag's Head\", u'The Hairy Lemon', u'The Temple Bar', u'Devitts Pub', u'Hogans', u\"P.Mac's\", u'The Lotts Cafe Bar', u'Grogans', u'The Old Storehouse Bar and Restaurant', u'The Parnell Bar', u'The Old Stand', u\"O'Neills Pub & Kitchen, Suffolk Street\", u\"Madigan's O'Connell Street\", u'The Bank on College Green', u\"Neary's\", u'McDaids', u'Bruxelles', u'The Oval Bar Dublin', u'Sinnotts Bar', u'The Living Room', u'Murrays Pub', u'The Palace Bar', u\"Kehoe's\", u\"Cassidy's\", u'Brannigans', u\"Mary's Bar & Hardware\", u'The Dawson Lounge', u'Dublin Literary Pub Crawl', u'J.W. Sweetman', u'The Long Stone', u\"Mulligan's\", u'The Celt', u'Fagans Bar and Restaurant', u\"O'Donoghues Bar\", u'Toners', u\"O'Neills Victorian Pub & Townhouse\", u'Doheny & Nesbitt', u'The Ginger Man', u'J.K. Stoutmans', u'Davy Byrnes', u'The Auld Dubliner', u'The Bailey - Cafe and Bar', u\"Madigan's Abbey Street\", u'The 51 Bar', u'The Bath Pub', u'The Bleeding Horse', u'The Workshop Gastropub', u'Bowes Lounge Bar', u'Buskers', u'Nancy Hands Bar & Restaurant', u\"Merchant's Arch\", u'Chaplins Bar', u'Gin Palace', u'The Clock Pub', u\"Lanigan's Pub\", u'Hole in the Wall', u'The Bernard Shaw', u'Searsons', u\"Slattery's Pub\", u'The Wind jammer', u'SIN \\xc9', u\"JJ Smyth's\", u'Scholars Pub', u\"O'Donoghue's\", u\"Molloy's\", u'Sheehans Pub', u'The Liberty Belle Pub', u\"Oliver St. John Gogarty's Hostel\", u'Peggy Kellys Pub', u'The Confession Box', u'The Carpenter', u'The Dropping Well Bar & Restaurant', u'The Paddocks Bar & Lounge', u'The Patriots Inn', u'Rody Bolands', u\"O'Connell's Bar Dublin\", u\"Doyle's\", u\"Eleanora's Bar & Lounge\", u'Woolshed Baa & Grill', u'The Glenside Pub', u'Against the Grain', u'Ryans Beggars Bush', u'Jack Nealons', u\"Darkey Kelly's\", u\"Peter's Pub\", u'Cherrytree Pub', u\"Paddy Cullen's Pub\", u\"Alfie Byrne's by Galway Bay Brewery\", u\"Cassidy's Bar\", u'Cat and Cage', u\"Grainger's Cafe Bar\", u\"Frank Ryan's\", u'Carolls Gastro Pub', u'Black Lion Inn', u\"Madigan's Earl Street\", u'The Merry Ploughboy', u\"Madigan's Pub Connolly Station Dublin 1\", u\"Walsh's\", u'The Lombard Pub & Townhouse', u'Brian Boru', u'Swan Bar', u'57 The Headline', u'The Norseman', u\"Hartigan's\", u'McGowans', u'The Hill Pub', u'The Morgue', u'Bad Bobs Temple Bar', u\"Cleary's Pub\", u'The Duke Dublin', u'The Beer Market', u'Blackbird', u'Big Tree', u\"Ryan's of Camden St.\", u\"Kennedy's\", u\"The Lincoln's Inn\", u\"Murray's Inn\", u\"R McSorley's\", u'Mayes Pub', u'Porterhouse Central', u'MVP', u\"Murphy's Pub Rathmines\", u'Brogans', u'The Blue Light', u\"Hughes' Bar\", u\"Flannery's Bar\", u'The Villager', u'The Dame Tavern', u\"Cusack's\", u'Pifko BAR', u'The Lower Deck Pub', u'L. Mulligan Grocer', u'The Finches', u'The Brew Dock', u'The Back Page', u'Lagoona Bar', u'Gaffney & Son Bar', u\"Oil Can Harry's/O'Connor's\", u'The Old Orchard Inn', u'Horse Show House', u'The Oarsman', u\"O'Reilly's Pub\", u'The Slipper', u'The Square Ball', u'Thomas House', u\"Lloyd's Bar & Lounge\", u'Mc Graths Pub', u\"Becky Morgan's\", u\"Grainger's Pub\", u'Doyles Corner', u'Bradys Terenure', u'The Barge Gastro Bar', u'The Black Forge Inn', u'The Wellington', u'The Hacienda Bar', u'The Laurels Clondalkin', u\"M O'Briens\", u\"Hyne's Pub\", u'The Comet', u'The Bar With No Name', u'The Goose Tavern', u'The Bankers', u'The George', u'The Waterloo Bar', u'The Globe - Late Bar 7 Nights A Week', u'Smyths Pub', u'The Flowing Tide', u'Foggy Dew', u'Canal Bar', u'Fitzgeralds', u'Taylors Three Rock Hotel', u\"Dicey's Garden Club\", u'The Dubliner pub', u'Meaghers Pub', u'Ruin Bar Dublin', u'Trinity Bar & Venue', u'The Vintage Inn', u'Palmerstown House', u'The Chancery Inn', u'Harry Byrnes', u'The Czech Inn', u'Capitol Lounge', u'The Grand Central', u'Peadar Browns', u'Chambers Pub Merrion Row Dublin 2', u'Fibber Magees', u'The Hill 16 Pub', u'Odeon', u'Bar Rua', u'An Poit\\xedn Still', u'Smyths of Ranelagh', u\"McGarry's Bar\", u\"Kealy's\", u'Gasworks Bar', u'The Clonskeagh House - Pub & Dining', u\"McCloskey's\", u\"J. O'Connell\", u'Morrisseys', u'Kestrel', u'The Old Punch Bowl', u'Mulligans of Sandymount', u\"Connolly's - The Sheds\", u'The Coach House Pub', u'Briodys', u'The Speaker Connolly', u'The Bridge 1859', u\"Kitty Kiernan's\", u'The Halfway House', u'The Grand Social', u'The Chophouse', u\"Reilly's Bar\", u'The Black Door', u'Breffni Inn', u'Caf\\xe9 en Seine', u'4 Dame Lane', u\"Brady's Castleknock\", u'McGrattans Caf\\xe9 Bar', u'The Mission Bar', u'The Eden House', u'The Wiley Fox', u'Tommy O\\u2019Gara\\u2019s', u'Autobahn Bar And Restaurant', u'Buglers Ballyboden House', u'Harbourmaster Bar and Restaurant', u'Octagon Bar', u'The Barbers', u\"Finnegan's of Dalkey\", u'The Whitworth', u'Mc Claffertys', u'The Hut', u'The Old Mill Bar', u\"The Ha'penny Bridge Inn\", u\"McCann's Bar\", u\"Ryan's Bar\", u\"McGowan's of Harold's Cross\", u\"O'Sullivans\", u'Bru House Fairview', u\"Johnnie Fox's Pub\", u'The Hideout House', u'The Church', u'Camden Exchange', u'The 108', u'Club Chonradh na Gaeilge', u\"O'Reilly's\", u'Quinns', u'Metro Cafe Bar', u'House Dublin', u\"McGettigan's Cookhouse & Bar\", u'Sams Bar', u'Token', u'Idlewild Bar', u'The Yellow House', u'The Goat Bar & Grill', u'Wigwam', u'Mercantile Hotel', u\"The Workman's Club\", u'The Green Room Bar', u'The Pines', u'Kilmardinny Inn', u\"Kennedy's Drumcondra\", u'The Brock Inn', u'East Side Tavern', u'Pavilion Bar', u\"P. Duggan's\", u'The Gallops Pub', u'The Bowery', u'Kavanaghs the Temple', u'Byrnes of Galloping Green', u'The Chelsea Drugstore', u\"Tom Kennedy's Bar\", u'Duffys', u'The Exchequer Wine Bar', u'Penny Hill Grill', u'The Ivy House & Patrick Carthys & Sons', u'The Merry Cobbler', u'Garage Bar', u'Beaumont House', u'Gravity Bar', u'The Purty Kitchen', u'Dtwo', u'Vat House Bar', u'Oscars Cafe Bar', u'Abbey Tavern', u'Adelphi', u'The Dingle Whiskey Bar', u'Peruke & Periwig', u'The Front Door', u'The Magic Carpet Pub', u'Dakota', u'The Blind Pig Speakeasy', u'The Tolka House', u'ZOZIMUS Bar', u\"Bourke's\", u'The Hogan Stand', u\"Arthur Mayne's\", u'John Clarke & Sons', u'The Black Sheep', u'The Elphin', u'The Sussex Restaurant', u'37 Dawson Street', u\"Jack O'Rourkes\", u'Farrier & Draper', u\"Harry's on the Green\", u'The Liquor Rooms', u'The Yacht Bar and Restaurant', u'Pebble Beach', u'The Rag Trader', u'Cumiskeys Bar and Restaurant', u'The Goblet', u'Cop\\xe1n', u'The Legal Eagle', u'Xico', u'Horse and Hound', u'The Three Tun Tavern', u'Beachcomber', u'Lemon & Duke', u\"Bottler's Bank\", u'The Bottle Tower - Beer & Food Co', u'The Yacht', u'The Cock Tavern', u'The Step Inn', u'The Donaghmede Inn', u'The Watermill', u'The Willows', u'The Irishtown House', u'The Forty Foot', u'The Merrion Inn', u\"Joxer Daly's\", u'Gate Clock Bar', u'The Summit Inn', u'Cedar Lounge', u\"The Druid's Chair\", u'Gleesons of Booterstown', u'The Boot Inn', u'The Bloody Stream', u'The Deputy Mayor', u'Fowlers Malahide', u'Kielys of Donnybrook', u\"Baker's Corner\", u'Stillorgan Orchard', u'The Leopardstown Inn', u\"Sheary's Bar & Lounge\", u'The Old Borough', u'The Clubhouse Bar', u'Wrights Anglers Rest', u'Mcloughlins Bar', u'The Graduate', u'The White House', u'Cumiskeys', u'Wrights Cafe Bar', u'The Queens Steak Room', u'Peacocks Bar and Lounge', u'Horse & Hound', u'The Quays Irish Restaurant', u'The Unicorn Restaurant', u'The Lord Mayors', u'Beerhouse', u'Martin B. Slattery', u'Mcneills Pub', u'The Dark Horse', u'NoLIta Dublin', u'Molloys Bar & Grill', u'Lamb Doyles', u'Matt The Thresher', u\"O'Connells\", u'The Golden Ball Pub', u'The Ferryman Hotel', u'The Magpie Inn', u'The Club Bar and Restaurant', u'P. McCormack and Sons', u'The Portobello Hotel', u'The Fitzwilliam Hotel Dublin', u'The Stone Boat', u'McKennas', u'Fitzgeralds of Sandycove', u'Igo Inn']\n"
     ]
    }
   ],
   "source": [
    "names = []\n",
    "driver.get(url)\n",
    "while True:\n",
    "    html = soup(driver.page_source, \"html5lib\")\n",
    "    pub_names = html.find_all(\"div\", {\"class\": \"_gt\"})\n",
    "    for box in pub_names:\n",
    "        names.append(box.find(\"div\", {\"class\": \"_rl\"}).get_text())\n",
    "    if html.find(\"a\", {\"id\": \"pnnext\"}) != None:\n",
    "        driver.get(\"http://www.google.ie\" + html.find(\"a\", {\"id\": \"pnnext\"}).get(\"href\"))\n",
    "        sleep(3)\n",
    "    else:\n",
    "        break\n",
    "print(names)"
   ]
  },
  {
   "cell_type": "code",
   "execution_count": 54,
   "metadata": {},
   "outputs": [
    {
     "data": {
      "text/plain": [
       "402"
      ]
     },
     "execution_count": 54,
     "metadata": {},
     "output_type": "execute_result"
    }
   ],
   "source": [
    "len(names)"
   ]
  },
  {
   "cell_type": "code",
   "execution_count": 12,
   "metadata": {},
   "outputs": [
    {
     "ename": "SessionNotCreatedException",
     "evalue": "Message: Tried to run command without establishing a connection\n",
     "traceback": [
      "\u001b[1;31m---------------------------------------------------------------------------\u001b[0m",
      "\u001b[1;31mSessionNotCreatedException\u001b[0m                Traceback (most recent call last)",
      "\u001b[1;32m<ipython-input-12-4848907ef2cb>\u001b[0m in \u001b[0;36m<module>\u001b[1;34m()\u001b[0m\n\u001b[1;32m----> 1\u001b[1;33m \u001b[0mdriver\u001b[0m\u001b[1;33m.\u001b[0m\u001b[0mget\u001b[0m\u001b[1;33m(\u001b[0m\u001b[0murl\u001b[0m\u001b[1;33m)\u001b[0m\u001b[1;33m\u001b[0m\u001b[0m\n\u001b[0m",
      "\u001b[1;32mC:\\Python27\\lib\\site-packages\\selenium\\webdriver\\remote\\webdriver.pyc\u001b[0m in \u001b[0;36mget\u001b[1;34m(self, url)\u001b[0m\n\u001b[0;32m    322\u001b[0m         \u001b[0mLoads\u001b[0m \u001b[0ma\u001b[0m \u001b[0mweb\u001b[0m \u001b[0mpage\u001b[0m \u001b[1;32min\u001b[0m \u001b[0mthe\u001b[0m \u001b[0mcurrent\u001b[0m \u001b[0mbrowser\u001b[0m \u001b[0msession\u001b[0m\u001b[1;33m.\u001b[0m\u001b[1;33m\u001b[0m\u001b[0m\n\u001b[0;32m    323\u001b[0m         \"\"\"\n\u001b[1;32m--> 324\u001b[1;33m         \u001b[0mself\u001b[0m\u001b[1;33m.\u001b[0m\u001b[0mexecute\u001b[0m\u001b[1;33m(\u001b[0m\u001b[0mCommand\u001b[0m\u001b[1;33m.\u001b[0m\u001b[0mGET\u001b[0m\u001b[1;33m,\u001b[0m \u001b[1;33m{\u001b[0m\u001b[1;34m'url'\u001b[0m\u001b[1;33m:\u001b[0m \u001b[0murl\u001b[0m\u001b[1;33m}\u001b[0m\u001b[1;33m)\u001b[0m\u001b[1;33m\u001b[0m\u001b[0m\n\u001b[0m\u001b[0;32m    325\u001b[0m \u001b[1;33m\u001b[0m\u001b[0m\n\u001b[0;32m    326\u001b[0m     \u001b[1;33m@\u001b[0m\u001b[0mproperty\u001b[0m\u001b[1;33m\u001b[0m\u001b[0m\n",
      "\u001b[1;32mC:\\Python27\\lib\\site-packages\\selenium\\webdriver\\remote\\webdriver.pyc\u001b[0m in \u001b[0;36mexecute\u001b[1;34m(self, driver_command, params)\u001b[0m\n\u001b[0;32m    310\u001b[0m         \u001b[0mresponse\u001b[0m \u001b[1;33m=\u001b[0m \u001b[0mself\u001b[0m\u001b[1;33m.\u001b[0m\u001b[0mcommand_executor\u001b[0m\u001b[1;33m.\u001b[0m\u001b[0mexecute\u001b[0m\u001b[1;33m(\u001b[0m\u001b[0mdriver_command\u001b[0m\u001b[1;33m,\u001b[0m \u001b[0mparams\u001b[0m\u001b[1;33m)\u001b[0m\u001b[1;33m\u001b[0m\u001b[0m\n\u001b[0;32m    311\u001b[0m         \u001b[1;32mif\u001b[0m \u001b[0mresponse\u001b[0m\u001b[1;33m:\u001b[0m\u001b[1;33m\u001b[0m\u001b[0m\n\u001b[1;32m--> 312\u001b[1;33m             \u001b[0mself\u001b[0m\u001b[1;33m.\u001b[0m\u001b[0merror_handler\u001b[0m\u001b[1;33m.\u001b[0m\u001b[0mcheck_response\u001b[0m\u001b[1;33m(\u001b[0m\u001b[0mresponse\u001b[0m\u001b[1;33m)\u001b[0m\u001b[1;33m\u001b[0m\u001b[0m\n\u001b[0m\u001b[0;32m    313\u001b[0m             response['value'] = self._unwrap_value(\n\u001b[0;32m    314\u001b[0m                 response.get('value', None))\n",
      "\u001b[1;32mC:\\Python27\\lib\\site-packages\\selenium\\webdriver\\remote\\errorhandler.pyc\u001b[0m in \u001b[0;36mcheck_response\u001b[1;34m(self, response)\u001b[0m\n\u001b[0;32m    240\u001b[0m                 \u001b[0malert_text\u001b[0m \u001b[1;33m=\u001b[0m \u001b[0mvalue\u001b[0m\u001b[1;33m[\u001b[0m\u001b[1;34m'alert'\u001b[0m\u001b[1;33m]\u001b[0m\u001b[1;33m.\u001b[0m\u001b[0mget\u001b[0m\u001b[1;33m(\u001b[0m\u001b[1;34m'text'\u001b[0m\u001b[1;33m)\u001b[0m\u001b[1;33m\u001b[0m\u001b[0m\n\u001b[0;32m    241\u001b[0m             \u001b[1;32mraise\u001b[0m \u001b[0mexception_class\u001b[0m\u001b[1;33m(\u001b[0m\u001b[0mmessage\u001b[0m\u001b[1;33m,\u001b[0m \u001b[0mscreen\u001b[0m\u001b[1;33m,\u001b[0m \u001b[0mstacktrace\u001b[0m\u001b[1;33m,\u001b[0m \u001b[0malert_text\u001b[0m\u001b[1;33m)\u001b[0m\u001b[1;33m\u001b[0m\u001b[0m\n\u001b[1;32m--> 242\u001b[1;33m         \u001b[1;32mraise\u001b[0m \u001b[0mexception_class\u001b[0m\u001b[1;33m(\u001b[0m\u001b[0mmessage\u001b[0m\u001b[1;33m,\u001b[0m \u001b[0mscreen\u001b[0m\u001b[1;33m,\u001b[0m \u001b[0mstacktrace\u001b[0m\u001b[1;33m)\u001b[0m\u001b[1;33m\u001b[0m\u001b[0m\n\u001b[0m\u001b[0;32m    243\u001b[0m \u001b[1;33m\u001b[0m\u001b[0m\n\u001b[0;32m    244\u001b[0m     \u001b[1;32mdef\u001b[0m \u001b[0m_value_or_default\u001b[0m\u001b[1;33m(\u001b[0m\u001b[0mself\u001b[0m\u001b[1;33m,\u001b[0m \u001b[0mobj\u001b[0m\u001b[1;33m,\u001b[0m \u001b[0mkey\u001b[0m\u001b[1;33m,\u001b[0m \u001b[0mdefault\u001b[0m\u001b[1;33m)\u001b[0m\u001b[1;33m:\u001b[0m\u001b[1;33m\u001b[0m\u001b[0m\n",
      "\u001b[1;31mSessionNotCreatedException\u001b[0m: Message: Tried to run command without establishing a connection\n"
     ],
     "output_type": "error"
    }
   ],
   "source": [
    "driver.get(url)"
   ]
  },
  {
   "cell_type": "code",
   "execution_count": 11,
   "metadata": {},
   "outputs": [
    {
     "ename": "SessionNotCreatedException",
     "evalue": "Message: Tried to run command without establishing a connection\n",
     "traceback": [
      "\u001b[1;31m---------------------------------------------------------------------------\u001b[0m",
      "\u001b[1;31mSessionNotCreatedException\u001b[0m                Traceback (most recent call last)",
      "\u001b[1;32m<ipython-input-11-ad0c9a213c39>\u001b[0m in \u001b[0;36m<module>\u001b[1;34m()\u001b[0m\n\u001b[1;32m----> 1\u001b[1;33m \u001b[0mdriver\u001b[0m\u001b[1;33m.\u001b[0m\u001b[0mclose\u001b[0m\u001b[1;33m(\u001b[0m\u001b[1;33m)\u001b[0m\u001b[1;33m\u001b[0m\u001b[0m\n\u001b[0m",
      "\u001b[1;32mC:\\Python27\\lib\\site-packages\\selenium\\webdriver\\remote\\webdriver.pyc\u001b[0m in \u001b[0;36mclose\u001b[1;34m(self)\u001b[0m\n\u001b[0;32m    677\u001b[0m             \u001b[0mdriver\u001b[0m\u001b[1;33m.\u001b[0m\u001b[0mclose\u001b[0m\u001b[1;33m(\u001b[0m\u001b[1;33m)\u001b[0m\u001b[1;33m\u001b[0m\u001b[0m\n\u001b[0;32m    678\u001b[0m         \"\"\"\n\u001b[1;32m--> 679\u001b[1;33m         \u001b[0mself\u001b[0m\u001b[1;33m.\u001b[0m\u001b[0mexecute\u001b[0m\u001b[1;33m(\u001b[0m\u001b[0mCommand\u001b[0m\u001b[1;33m.\u001b[0m\u001b[0mCLOSE\u001b[0m\u001b[1;33m)\u001b[0m\u001b[1;33m\u001b[0m\u001b[0m\n\u001b[0m\u001b[0;32m    680\u001b[0m \u001b[1;33m\u001b[0m\u001b[0m\n\u001b[0;32m    681\u001b[0m     \u001b[1;32mdef\u001b[0m \u001b[0mquit\u001b[0m\u001b[1;33m(\u001b[0m\u001b[0mself\u001b[0m\u001b[1;33m)\u001b[0m\u001b[1;33m:\u001b[0m\u001b[1;33m\u001b[0m\u001b[0m\n",
      "\u001b[1;32mC:\\Python27\\lib\\site-packages\\selenium\\webdriver\\remote\\webdriver.pyc\u001b[0m in \u001b[0;36mexecute\u001b[1;34m(self, driver_command, params)\u001b[0m\n\u001b[0;32m    310\u001b[0m         \u001b[0mresponse\u001b[0m \u001b[1;33m=\u001b[0m \u001b[0mself\u001b[0m\u001b[1;33m.\u001b[0m\u001b[0mcommand_executor\u001b[0m\u001b[1;33m.\u001b[0m\u001b[0mexecute\u001b[0m\u001b[1;33m(\u001b[0m\u001b[0mdriver_command\u001b[0m\u001b[1;33m,\u001b[0m \u001b[0mparams\u001b[0m\u001b[1;33m)\u001b[0m\u001b[1;33m\u001b[0m\u001b[0m\n\u001b[0;32m    311\u001b[0m         \u001b[1;32mif\u001b[0m \u001b[0mresponse\u001b[0m\u001b[1;33m:\u001b[0m\u001b[1;33m\u001b[0m\u001b[0m\n\u001b[1;32m--> 312\u001b[1;33m             \u001b[0mself\u001b[0m\u001b[1;33m.\u001b[0m\u001b[0merror_handler\u001b[0m\u001b[1;33m.\u001b[0m\u001b[0mcheck_response\u001b[0m\u001b[1;33m(\u001b[0m\u001b[0mresponse\u001b[0m\u001b[1;33m)\u001b[0m\u001b[1;33m\u001b[0m\u001b[0m\n\u001b[0m\u001b[0;32m    313\u001b[0m             response['value'] = self._unwrap_value(\n\u001b[0;32m    314\u001b[0m                 response.get('value', None))\n",
      "\u001b[1;32mC:\\Python27\\lib\\site-packages\\selenium\\webdriver\\remote\\errorhandler.pyc\u001b[0m in \u001b[0;36mcheck_response\u001b[1;34m(self, response)\u001b[0m\n\u001b[0;32m    240\u001b[0m                 \u001b[0malert_text\u001b[0m \u001b[1;33m=\u001b[0m \u001b[0mvalue\u001b[0m\u001b[1;33m[\u001b[0m\u001b[1;34m'alert'\u001b[0m\u001b[1;33m]\u001b[0m\u001b[1;33m.\u001b[0m\u001b[0mget\u001b[0m\u001b[1;33m(\u001b[0m\u001b[1;34m'text'\u001b[0m\u001b[1;33m)\u001b[0m\u001b[1;33m\u001b[0m\u001b[0m\n\u001b[0;32m    241\u001b[0m             \u001b[1;32mraise\u001b[0m \u001b[0mexception_class\u001b[0m\u001b[1;33m(\u001b[0m\u001b[0mmessage\u001b[0m\u001b[1;33m,\u001b[0m \u001b[0mscreen\u001b[0m\u001b[1;33m,\u001b[0m \u001b[0mstacktrace\u001b[0m\u001b[1;33m,\u001b[0m \u001b[0malert_text\u001b[0m\u001b[1;33m)\u001b[0m\u001b[1;33m\u001b[0m\u001b[0m\n\u001b[1;32m--> 242\u001b[1;33m         \u001b[1;32mraise\u001b[0m \u001b[0mexception_class\u001b[0m\u001b[1;33m(\u001b[0m\u001b[0mmessage\u001b[0m\u001b[1;33m,\u001b[0m \u001b[0mscreen\u001b[0m\u001b[1;33m,\u001b[0m \u001b[0mstacktrace\u001b[0m\u001b[1;33m)\u001b[0m\u001b[1;33m\u001b[0m\u001b[0m\n\u001b[0m\u001b[0;32m    243\u001b[0m \u001b[1;33m\u001b[0m\u001b[0m\n\u001b[0;32m    244\u001b[0m     \u001b[1;32mdef\u001b[0m \u001b[0m_value_or_default\u001b[0m\u001b[1;33m(\u001b[0m\u001b[0mself\u001b[0m\u001b[1;33m,\u001b[0m \u001b[0mobj\u001b[0m\u001b[1;33m,\u001b[0m \u001b[0mkey\u001b[0m\u001b[1;33m,\u001b[0m \u001b[0mdefault\u001b[0m\u001b[1;33m)\u001b[0m\u001b[1;33m:\u001b[0m\u001b[1;33m\u001b[0m\u001b[0m\n",
      "\u001b[1;31mSessionNotCreatedException\u001b[0m: Message: Tried to run command without establishing a connection\n"
     ],
     "output_type": "error"
    }
   ],
   "source": [
    "driver.close()"
   ]
  },
  {
   "cell_type": "code",
   "execution_count": null,
   "metadata": {},
   "outputs": [],
   "source": [
    ""
   ]
  }
 ],
 "metadata": {
  "kernelspec": {
   "display_name": "Python 2",
   "language": "python",
   "name": "python2"
  },
  "language_info": {
   "codemirror_mode": {
    "name": "ipython",
    "version": 2.0
   },
   "file_extension": ".py",
   "mimetype": "text/x-python",
   "name": "python",
   "nbconvert_exporter": "python",
   "pygments_lexer": "ipython2",
   "version": "2.7.14"
  }
 },
 "nbformat": 4,
 "nbformat_minor": 0
}