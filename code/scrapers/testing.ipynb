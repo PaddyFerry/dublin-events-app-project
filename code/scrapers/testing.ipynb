{
 "cells": [
  {
   "cell_type": "code",
   "execution_count": 1,
   "metadata": {},
   "outputs": [],
   "source": [
    "import database"
   ]
  },
  {
   "cell_type": "code",
   "execution_count": 2,
   "metadata": {},
   "outputs": [],
   "source": [
    "import entertainment"
   ]
  },
  {
   "cell_type": "code",
   "execution_count": 3,
   "metadata": {},
   "outputs": [],
   "source": [
    "import eventbrite"
   ]
  },
  {
   "cell_type": "code",
   "execution_count": 4,
   "metadata": {},
   "outputs": [],
   "source": [
    "import runner"
   ]
  },
  {
   "cell_type": "code",
   "execution_count": 5,
   "metadata": {},
   "outputs": [],
   "source": [
    "db = database.Database(\"test\", \"1234\", \"159.65.84.145\", \"app\")"
   ]
  },
  {
   "cell_type": "code",
   "execution_count": 6,
   "metadata": {},
   "outputs": [
    {
     "name": "stdout",
     "output_type": "stream",
     "text": [
      "Connected to database\n",
      "SELECT * FROM venuesTest WHERE name = \"Fibber Magees\" OR REPLACE(name, \"'\", \"\") = \"Fibber Magees\"\n",
      "Finished with database\n"
     ]
    }
   ],
   "source": [
    "with db:\n",
    "    print db.select(\"Fibber Magee's\" , \"name\", \"venuesTest\")"
   ]
  },
  {
   "cell_type": "code",
   "execution_count": 7,
   "metadata": {},
   "outputs": [
    {
     "name": "stdout",
     "output_type": "stream",
     "text": [
      "Connected to database\n",
      "1\n",
      "1\n",
      "1\n",
      "1\n",
      "Finished with database\n"
     ]
    }
   ],
   "source": [
    "with db:\n",
    "    print db.check_db_venue(\"fibber magees\")\n",
    "    print db.check_db_venue(\"3arena\")\n",
    "    print db.check_db_venue(\"THE WORKMANS CLUB\")\n",
    "    print db.check_db_venue(\"  whelans  \")"
   ]
  },
  {
   "cell_type": "code",
   "execution_count": 12,
   "metadata": {},
   "outputs": [
    {
     "name": "stdout",
     "output_type": "stream",
     "text": [
      "Connected to database\n",
      "Finished with database\n",
      "(u'Fibber Magees', u'4.4', u'Bar', u'https://lh5.googleusercontent.com/p/AF1QipNg3rh_ZC7BedDdnppcXxu0VXlUhZqHT31ulNbM=w240-h160-k-no', u'80-81 Parnell St, Rotunda, Dublin 1, D01 CK74', u'Classic pub with a predilection for hard guitar music with brick walls, pool tables and beer garden.', -6.2606074, 53.35277259999999)\n",
      "(u'3Arena', u'4.4', u'Live Music Venue', u'https://lh5.googleusercontent.com/p/AF1QipOzfDINvH6XTmtWKw2YFYknL4gwr2NqnSQN6Kzm=w285-h160-k-no', u'N Wall Quay, North Dock, Dublin 1', u'Live Music Venue', -6.2450651, 53.3481341)\n",
      "(u'National Concert Hall, Dublin', u'4.6', u'Concert hall ', u'https://lh5.googleusercontent.com/p/AF1QipPao7I_2pCz1Vie74COCPXnuow3eT-ZiJGc3vGy=w240-h160-k-no', u\"Earlsfort Terrace, Saint Kevin's, Dublin, D02 N527\", u'Concert hall ', -6.2582318, 53.3345281)\n",
      "(u'Button Factory', u'4.1', u'Event Venue', u'https://lh5.googleusercontent.com/p/AF1QipPhgGdYrQpUSgD75wJWEHG-shBusyuaKpr0Mkyx=w213-h160-k-no', u'Curved St, Temple Bar, Dublin', u'Intimate, buzzing live music and clubbing venue staging innovative bands and DJ sets.', -6.2645458, 53.3448613)\n"
     ]
    }
   ],
   "source": [
    "with db:\n",
    "    places = []\n",
    "    places.append(db.google_it(\"fibber magees\"))\n",
    "    places.append(db.google_it(\"3 arena\"))\n",
    "    places.append(db.google_it(\"national concert hall\"))\n",
    "    places.append(db.google_it(\"the button factory\"))\n",
    "for place in places:\n",
    "    print place"
   ]
  },
  {
   "cell_type": "code",
   "execution_count": 15,
   "metadata": {},
   "outputs": [
    {
     "data": {
      "text/plain": [
       "'Event Venue '"
      ]
     },
     "execution_count": 15,
     "metadata": {},
     "output_type": "execute_result"
    }
   ],
   "source": [
    "database.Database.fix_category(\"Event Venue in Dublin, Republic of Ireland\")"
   ]
  },
  {
   "cell_type": "code",
   "execution_count": 23,
   "metadata": {},
   "outputs": [
    {
     "name": "stdout",
     "output_type": "stream",
     "text": [
      "Connected to database\n",
      "None\n",
      "Finished with database\n"
     ]
    }
   ],
   "source": [
    "with db:\n",
    "    print db.add_to_db_venue(places[0])"
   ]
  },
  {
   "cell_type": "code",
   "execution_count": 24,
   "metadata": {},
   "outputs": [
    {
     "name": "stdout",
     "output_type": "stream",
     "text": [
      "Error: 1062 (23000): Duplicate entry 'Fibber Magees-80-81 Parnell St, Rotunda, Dublin 1, D01 CK74' for key 'PRIMARY'\n",
      "\n"
     ]
    }
   ],
   "source": [
    "print db.output"
   ]
  },
  {
   "cell_type": "code",
   "execution_count": 34,
   "metadata": {},
   "outputs": [
    {
     "name": "stdout",
     "output_type": "stream",
     "text": [
      "Connected to database\n",
      "https://lh5.googleusercontent.com/p/AF1QipPhgGdYrQpUSgD75wJWEHG-shBusyuaKpr0Mkyx=w213-h160-k-no\n",
      "Finished with database\n"
     ]
    }
   ],
   "source": [
    "with db:\n",
    "    print db.find_image(places[3][0])"
   ]
  },
  {
   "cell_type": "code",
   "execution_count": 35,
   "metadata": {},
   "outputs": [
    {
     "data": {
      "text/plain": [
       "'2018-3-12 :'"
      ]
     },
     "execution_count": 35,
     "metadata": {},
     "output_type": "execute_result"
    }
   ],
   "source": [
    "entertainment.get_date_time(\"Mon 12 March 2018\")"
   ]
  },
  {
   "cell_type": "code",
   "execution_count": 38,
   "metadata": {},
   "outputs": [
    {
     "name": "stdout",
     "output_type": "stream",
     "text": [
      "http://www.entertainment.ie/show-Dublin/National-Concert-Hall/The-Gloaming/Music-2808829.htm\n",
      "http://www.entertainment.ie/show-Dublin/The-Complex/Where-We-Live-presented-by-THISISPOPBABY/Music-2809048.htm\n",
      "http://www.entertainment.ie/show-Dublin/The-Sugar-Club/Waka-Flocka-Flame/Music-2807585.htm\n",
      "http://www.entertainment.ie/show-Dublin/The-Complex/Where-We-Live-The-High-Hopes-Community-Choir/Music-2809132.htm\n",
      "http://www.entertainment.ie/show-Dublin/Gaiety-Theatre/Thriller-Live/Music-2813608.htm\n",
      "http://www.entertainment.ie/show-Dublin/International-Bar-Dublin/The-Circle-Sessions/Music-2809250.htm\n",
      "http://www.entertainment.ie/show-Dublin/Olympia-Theatre/Rejjie-Snow/Music-2806168.htm\n",
      "http://www.entertainment.ie/show-Dublin/The-Dolmen-Theatre/Goodnight-Delia/Music-2814046.htm\n",
      "http://www.entertainment.ie/show-Dublin/The-Complex/Where-We-Live-The-Mouth-of-a-Shark/Music-2809055.htm\n",
      "http://www.entertainment.ie/show-Dublin/The-Complex/Where-We-Live-presented-by-THISISPOPBABY/Music-2809048.htm\n",
      "http://www.entertainment.ie/show-Dublin/The-Complex/Where-We-Live-The-High-Hopes-Community-Choir/Music-2809132.htm\n",
      "http://www.entertainment.ie/show-Dublin/Gaiety-Theatre/Thriller-Live/Music-2813608.htm\n",
      "http://www.entertainment.ie/show-Dublin/The-Dolmen-Theatre/Goodnight-Delia/Music-2814046.htm\n",
      "http://www.entertainment.ie/show-Dublin/The-Complex/Where-We-Live-The-Mouth-of-a-Shark/Music-2809055.htm\n",
      "http://www.entertainment.ie/show-Dublin/Olympia-Theatre/Erasure/Music-2813726.htm\n",
      "http://www.entertainment.ie/show-Dublin/Doyles/The-Ruby-Sessions/Music-2810584.htm\n",
      "http://www.entertainment.ie/show-Dublin/Whelans/LÃœ-TYSKY-upstairs/Music-2814099.htm\n",
      "http://www.entertainment.ie/show-Dublin/Hapenny-Bridge-Inn/Battle-of-the-Axe/Music-2812529.htm\n",
      "http://www.entertainment.ie/show-Dublin/The-Complex/Where-We-Live-presented-by-THISISPOPBABY/Music-2809048.htm\n",
      "http://www.entertainment.ie/show-Dublin/The-Complex/Where-We-Live-The-High-Hopes-Community-Choir/Music-2809132.htm\n",
      "http://www.entertainment.ie/show-Dublin/Gaiety-Theatre/Thriller-Live/Music-2813608.htm\n",
      "http://www.entertainment.ie/show-Dublin/The-Dolmen-Theatre/Goodnight-Delia/Music-2814046.htm\n",
      "http://www.entertainment.ie/show-Dublin/The-Complex/Where-We-Live-The-Mouth-of-a-Shark/Music-2809055.htm\n",
      "http://www.entertainment.ie/show-Dublin/Olympia-Theatre/Erasure/Music-2813727.htm\n",
      "http://www.entertainment.ie/show-Dublin/The-Academy/The-Wombats/Music-2808590.htm\n",
      "http://www.entertainment.ie/show-Dublin/Tivoli-Theatre/Death-From-Above/Music-2813729.htm\n",
      "http://www.entertainment.ie/show-Dublin/The-Workmans-Club/Somewhere/Music-2810776.htm\n",
      "http://www.entertainment.ie/show-Dublin/The-Grand-Social/Keep-Shelly-In-Athens/Music-2810041.htm\n",
      "http://www.entertainment.ie/show-Dublin/Bord-GÃ¡is-Energy-Theatre/TOSCA/Music-2805173.htm\n",
      "http://www.entertainment.ie/show-Dublin/Pavilion-Theatre/Oliver/Music-2812174.htm\n",
      "http://www.entertainment.ie/show-Dublin/Whelans/Niall-Cash-upstairs/Music-2811447.htm\n",
      "http://www.entertainment.ie/show-Dublin/The-Complex/Where-We-Live-presented-by-THISISPOPBABY/Music-2809048.htm\n",
      "http://www.entertainment.ie/show-Dublin/The-Complex/Where-We-Live-The-High-Hopes-Community-Choir/Music-2809132.htm\n",
      "http://www.entertainment.ie/show-Dublin/Gaiety-Theatre/Thriller-Live/Music-2813608.htm\n",
      "http://www.entertainment.ie/show-Dublin/The-Dolmen-Theatre/Goodnight-Delia/Music-2814046.htm\n",
      "http://www.entertainment.ie/show-Dublin/The-Complex/Where-We-Live-The-Mouth-of-a-Shark/Music-2809055.htm\n",
      "http://www.entertainment.ie/show-Dublin/Bord-GÃ¡is-Energy-Theatre/TOSCA/Music-2805173.htm\n",
      "http://www.entertainment.ie/show-Dublin/Pavilion-Theatre/Oliver/Music-2812174.htm\n",
      "http://www.entertainment.ie/show-Dublin/Olympia-Theatre/Erasure/Music-2813728.htm\n",
      "http://www.entertainment.ie/show-Dublin/Whelans/Jonathan-Wilson/Music-2809834.htm\n",
      "http://www.entertainment.ie/show-Dublin/The-Workmans-Club/Karl-Blau/Music-2808684.htm\n",
      "http://www.entertainment.ie/show-Dublin/The-Grand-Social/Old-Hannah/Music-2813211.htm\n",
      "http://www.entertainment.ie/show-Dublin/Tivoli-Theatre/Sepultura/Music-2811439.htm\n",
      "http://www.entertainment.ie/show-Dublin/The-Bowery-Rathmines/Bitch-Falcon-WOLFF-Ape-Rising/Music-2813684.htm\n",
      "http://www.entertainment.ie/show-Dublin/Jigsaw/Rita-Braga-Yawning-Chasm-Special-Guests/Music-2813833.htm\n",
      "http://www.entertainment.ie/show-Dublin/Mill-Theatre-Dundrum/Garth-Brooks-Live-Tribute-with-Jason-Hughes/Music-2812006.htm\n",
      "http://www.entertainment.ie/show-Dublin/The-Bowery-Rathmines/Bitch-Falcon/Music-2812471.htm\n",
      "http://www.entertainment.ie/show-Dublin/The-Workmans-Club/AFOG-Show/Music-2814314.htm\n",
      "http://www.entertainment.ie/show-Dublin/Whelans/Bicurious-Upstairs/Music-2813856.htm\n",
      "http://www.entertainment.ie/show-Dublin/Hapenny-Bridge-Inn/Battle-of-the-Axe/Music-2812482.htm\n",
      "http://www.entertainment.ie/show-Dublin/National-Concert-Hall/Philippe-Cassard/Music-2813195.htm\n",
      "http://www.entertainment.ie/show-Dublin/Bruxelles/Michael-Buckley-Double-Standard-Time/Music-2812964.htm\n",
      "http://www.entertainment.ie/show-Dublin/The-Complex/Where-We-Live-presented-by-THISISPOPBABY/Music-2809048.htm\n",
      "http://www.entertainment.ie/show-Dublin/The-Complex/Where-We-Live-The-High-Hopes-Community-Choir/Music-2809132.htm\n",
      "http://www.entertainment.ie/show-Dublin/The-Dolmen-Theatre/Goodnight-Delia/Music-2814046.htm\n",
      "http://www.entertainment.ie/show-Dublin/Bord-GÃ¡is-Energy-Theatre/TOSCA/Music-2805173.htm\n",
      "http://www.entertainment.ie/show-Dublin/Pavilion-Theatre/Oliver/Music-2812174.htm\n",
      "http://www.entertainment.ie/show-Dublin/3-Arena/Stereophonics/Music-2805454.htm\n",
      "http://www.entertainment.ie/show-Dublin/Olympia-Theatre/The-Stunning/Music-2807607.htm\n",
      "http://www.entertainment.ie/show-Dublin/Draiocht/The-Legend-of-Luke-Kelly-with-Chris-Kavanagh/Music-2810310.htm\n",
      "http://www.entertainment.ie/show-Dublin/Gaiety-Theatre/Thriller-Live/Music-2813609.htm\n",
      "http://www.entertainment.ie/show-Dublin/The-Complex/Home-High-Hopes-Community-Choir/Music-2812860.htm\n",
      "http://www.entertainment.ie/show-Dublin/Gaiety-Theatre/Thriller-Live/Music-2813610.htm\n",
      "http://www.entertainment.ie/show-Dublin/Arthurs-Pub/The-Dave-Mchugh-Band/Music-2810340.htm\n",
      "http://www.entertainment.ie/show-Dublin/The-DC-Music-Club/Musiclee-presents-The-Sick-and-Indigent-Song-Club-in-concert/Music-2813207.htm\n",
      "http://www.entertainment.ie/show-Dublin/Annesley-House/Reggae-and-ska-unplugged/Music-2814111.htm\n",
      "http://www.entertainment.ie/show-Dublin/Annesley-House/Reggae-and-ska-unplugged/Music-2814112.htm\n",
      "http://www.entertainment.ie/show-Dublin/Annesley-House/Reggae-and-ska-unplugged/Music-2814118.htm\n",
      "http://www.entertainment.ie/show-Dublin/Bagots-Hutton/Kevin-Rowland-Dexys-Midnight-Runners-Dj-Set/Music-2813248.htm\n",
      "http://www.entertainment.ie/show-Dublin/Hang-Dai-Chinese/Eoin-Callanan-at-Hang-Dai/Music-2812213.htm\n",
      "http://www.entertainment.ie/show-Dublin/The-Button-Factory/Euphoria-presents-4th-Birthday-Paddys-Eve-with-DJ-ENTRICO-MELONI-ITALY-XTRA-PARTY-ITALY/Music-2814301.htm\n",
      "http://www.entertainment.ie/show-Dublin/Whelans/Midnight-Hour-w-Zeros-Ones-upstairs/Music-2814321.htm\n",
      "http://www.entertainment.ie/show-Dublin/Hangar/AVA-LONDON-2018/Music-2814334.htm\n",
      "http://www.entertainment.ie/show-Dublin/The-Button-Factory/Zooropa-Irelands-1-U2-Tribute/Music-2810105.htm\n",
      "http://www.entertainment.ie/show-Dublin/Mill-Theatre-Dundrum/The-Don-Baker-and-Rob-Strong-Band/Music-2812002.htm\n",
      "http://www.entertainment.ie/show-Dublin/The-Bowery-Rathmines/TooFools-Live-In-Dublin/Music-2813776.htm\n",
      "http://www.entertainment.ie/show-Dublin/The-Bowery-Rathmines/TooFools/Music-2812473.htm\n",
      "http://www.entertainment.ie/show-Dublin/Thomas-House/Ghost-Accuser-Album-Launch/Music-2814090.htm\n",
      "http://www.entertainment.ie/show-Dublin/Whelans/Brian-Deady/Music-2813435.htm\n",
      "http://www.entertainment.ie/show-Dublin/Anseo/Monsieur-Pompiers-Travelling-Freakshow/Music-2814089.htm\n",
      "http://www.entertainment.ie/show-Dublin/The-Purty-Kitchen-Dun-Laoghaire/Aaron-Rowe-Debut-Single-Launch/Music-2809820.htm\n",
      "http://www.entertainment.ie/show-Dublin/The-Workmans-Club/Fridays-at-Workmans/Music-2811098.htm\n",
      "http://www.entertainment.ie/show-Dublin/National-Concert-Hall/Dublins-Theatre-Royal-Remembered/Music-2813196.htm\n",
      "http://www.entertainment.ie/show-Dublin/The-Complex/Where-We-Live-presented-by-THISISPOPBABY/Music-2809048.htm\n",
      "http://www.entertainment.ie/show-Dublin/The-Complex/Where-We-Live-The-High-Hopes-Community-Choir/Music-2809132.htm\n",
      "http://www.entertainment.ie/show-Dublin/The-Dolmen-Theatre/Goodnight-Delia/Music-2814046.htm\n",
      "http://www.entertainment.ie/show-Dublin/Bord-GÃ¡is-Energy-Theatre/TOSCA/Music-2805173.htm\n",
      "http://www.entertainment.ie/show-Dublin/Pavilion-Theatre/Oliver/Music-2812174.htm\n",
      "http://www.entertainment.ie/show-Dublin/Hangar/AVA-LONDON-2018/Music-2814334.htm\n",
      "http://www.entertainment.ie/show-Dublin/Vicar-Street/The-Legend-Of-Luke-Kelly/Music-2812230.htm\n",
      "http://www.entertainment.ie/show-Dublin/Olympia-Theatre/The-Selecter-and-The-Beat/Music-2798378.htm\n",
      "http://www.entertainment.ie/show-Dublin/The-Complex/Where-We-Live-Werkhouse/Music-2809130.htm\n",
      "http://www.entertainment.ie/show-Dublin/Gaiety-Theatre/Thriller-Live/Music-2813611.htm\n",
      "http://www.entertainment.ie/show-Dublin/Gaiety-Theatre/Thriller-Live/Music-2813612.htm\n",
      "http://www.entertainment.ie/show-Dublin/National-Concert-Hall/LÃ¡-FhÃ©ile-PÃ¡draig-The-World-Premiere-of-Sweeney/Music-2813197.htm\n",
      "http://www.entertainment.ie/show-Dublin/Arthurs-Pub/The-Real-Skid-Row-50-Years-Party/Music-2810339.htm\n",
      "http://www.entertainment.ie/show-Dublin/Bagots-Hutton/Daithi-special-guests/Music-2813510.htm\n",
      "http://www.entertainment.ie/show-Dublin/The-Mint-Bar/The-Bratz-Band-in-The-Mint-Bar/Music-2814162.htm\n",
      "http://www.entertainment.ie/show-Dublin/Hang-Dai-Chinese/Donal-Dineen-at-Hang-Dai/Music-2812214.htm\n",
      "http://www.entertainment.ie/show-Dublin/Hang-Dai-Chinese/Donal-Dineen-at-Hang-Dai/Music-2812215.htm\n",
      "http://www.entertainment.ie/show-Dublin/Hang-Dai-Chinese/Donal-Dineen-at-Hang-Dai/Music-2812222.htm\n",
      "http://www.entertainment.ie/show-Dublin/The-Bowery-Rathmines/Shogunz-Of-Stank-Mark-GKing-Kong-Company-Gin-N-Juice/Music-2813720.htm\n",
      "http://www.entertainment.ie/show-Dublin/The-Purty-Kitchen-Dun-Laoghaire/Complete-Madness/Music-2809821.htm\n",
      "http://www.entertainment.ie/show-Dublin/Turks-Head/Irish-Reggae-and-Ska-Special/Music-2814325.htm\n",
      "http://www.entertainment.ie/show-Dublin/The-Workmans-Club/Saturdays-at-Workmans/Music-2811068.htm\n",
      "http://www.entertainment.ie/show-Dublin/The-Complex/Where-We-Live-presented-by-THISISPOPBABY/Music-2809048.htm\n",
      "http://www.entertainment.ie/show-Dublin/The-Complex/Where-We-Live-The-High-Hopes-Community-Choir/Music-2809132.htm\n",
      "http://www.entertainment.ie/show-Dublin/Bord-GÃ¡is-Energy-Theatre/TOSCA/Music-2805173.htm\n",
      "http://www.entertainment.ie/show-Dublin/Pavilion-Theatre/Oliver/Music-2812174.htm\n",
      "http://www.entertainment.ie/show-Dublin/Olympia-Theatre/Aslan/Music-2810054.htm\n",
      "http://www.entertainment.ie/show-Dublin/Vicar-Street/Kormac-Equivalent-Exchange/Music-2809794.htm\n",
      "http://www.entertainment.ie/show-Dublin/Gaiety-Theatre/Thriller-Live/Music-2813613.htm\n",
      "http://www.entertainment.ie/show-Dublin/Gaiety-Theatre/Thriller-Live/Music-2813614.htm\n",
      "http://www.entertainment.ie/show-Dublin/Whelans/AILIE-Live-in-Whelans/Music-2813760.htm\n",
      "http://www.entertainment.ie/show-Dublin/Whelans/Native-Oak-upstairs/Music-2813772.htm\n",
      "http://www.entertainment.ie/show-Dublin/Whelans/Ailie/Music-2812449.htm\n",
      "http://www.entertainment.ie/show-Dublin/Bagots-Hutton/The-Catfish-Blues-Orchestra-Live-in-Concert/Music-2813509.htm\n",
      "http://www.entertainment.ie/show-Dublin/National-Concert-Hall/Kilfenora-CÃ©ilÃ­-Band-and-Guests/Music-2813198.htm\n",
      "http://www.entertainment.ie/show-Dublin/The-Workmans-Club/Karaoke-Club/Music-2810811.htm\n"
     ]
    },
    {
     "name": "stdout",
     "output_type": "stream",
     "text": [
      "http://www.entertainment.ie/show-Dublin/International-Bar-Dublin/The-Circle-Sessions/Music-2809251.htm\n",
      "http://www.entertainment.ie/show-Dublin/Olympia-Theatre/Vance-Joy/Music-2808097.htm\n",
      "http://www.entertainment.ie/show-Dublin/The-Workmans-Club/Hippie-Sabotage/Music-2812574.htm\n",
      "http://www.entertainment.ie/show-Dublin/Doyles/The-Ruby-Sessions/Music-2810585.htm\n",
      "http://www.entertainment.ie/show-Dublin/Tivoli-Theatre/Cannibal-Corpse/Music-2805486.htm\n",
      "http://www.entertainment.ie/show-Dublin/National-Concert-Hall/The-Hibernian-Orchestra-Spring-Concert/Music-2813199.htm\n",
      "http://www.entertainment.ie/show-Dublin/Olympia-Theatre/Feeder/Music-2812797.htm\n",
      "http://www.entertainment.ie/show-Dublin/Bord-GÃ¡is-Energy-Theatre/Joan-Baez/Music-2808505.htm\n",
      "http://www.entertainment.ie/show-Dublin/Olympia-Theatre/Feeder/Music-2807589.htm\n",
      "http://www.entertainment.ie/show-Dublin/Whelans/The-Niall-McCabe-Band/Music-2814178.htm\n",
      "http://www.entertainment.ie/show-Dublin/National-Concert-Hall/Tom-Rogerson/Music-2813082.htm\n",
      "http://www.entertainment.ie/show-Dublin/National-Stadium/dodie/Music-2809715.htm\n",
      "http://www.entertainment.ie/show-Dublin/Vicar-Street/Bell-X1/Music-2807465.htm\n",
      "http://www.entertainment.ie/show-Dublin/The-Workmans-Club/Somewhere/Music-2810777.htm\n",
      "http://www.entertainment.ie/show-Dublin/Whelans/Galway-Street-Club-Album-Launch/Music-2813208.htm\n",
      "http://www.entertainment.ie/show-Dublin/Whelans/Niall-McCabe-Band/Music-2814097.htm\n",
      "http://www.entertainment.ie/show-Dublin/Vicar-Street/Bell-X1/Music-2807465.htm\n",
      "http://www.entertainment.ie/show-Dublin/Bord-GÃ¡is-Energy-Theatre/Joan-Baez/Music-2808506.htm\n",
      "http://www.entertainment.ie/show-Dublin/Draiocht/Sandy-Kelly-Sings-Patsy-Cline/Music-2810311.htm\n",
      "http://www.entertainment.ie/show-Dublin/Whelans/The-Secret-Sister/Music-2808508.htm\n",
      "http://www.entertainment.ie/show-Dublin/The-Grand-Social/Garageland-presents-the-Garage-Gigs-in-The-Grand-Social/Music-2814304.htm\n",
      "http://www.entertainment.ie/show-Dublin/Whelans/Slow-Riot-upstairs/Music-2814135.htm\n",
      "http://www.entertainment.ie/show-Dublin/Bagots-Hutton/Thinner-Lizzy-/Music-2813508.htm\n",
      "http://www.entertainment.ie/show-Dublin/Hapenny-Bridge-Inn/Battle-of-the-Axe/Music-2812483.htm\n",
      "http://www.entertainment.ie/show-Dublin/Bruxelles/Michael-Buckley-Double-Standard-Time/Music-2812965.htm\n",
      "http://www.entertainment.ie/show-Dublin/Vicar-Street/Bell-X1/Music-2807465.htm\n",
      "http://www.entertainment.ie/show-Dublin/3-Arena/Nathan-Carter/Music-2813427.htm\n",
      "http://www.entertainment.ie/show-Dublin/District-8/Gorgon-City-presents-Kingdom/Music-2809721.htm\n",
      "http://www.entertainment.ie/show-Dublin/Olympia-Theatre/All-Tvvins/Music-2807335.htm\n",
      "http://www.entertainment.ie/show-Dublin/The-Button-Factory/Little-Hours/Music-2808385.htm\n",
      "http://www.entertainment.ie/show-Dublin/The-Grand-Social/Sarah-Darling/Music-2811363.htm\n",
      "http://www.entertainment.ie/show-Dublin/The-Academy/Sigrid/Music-2804581.htm\n",
      "http://www.entertainment.ie/show-Dublin/Hang-Dai-Chinese/Move-Slow-Records-at-Hang-Dai/Music-2812223.htm\n",
      "http://www.entertainment.ie/show-Dublin/Whelans/Midnight-Hour-w-Empathy-Upstairs/Music-2814275.htm\n",
      "http://www.entertainment.ie/show-Dublin/Marlay-House/Marlay-House-Traditional-Irish-Music-Nights/Music-2814188.htm\n",
      "http://www.entertainment.ie/show-Dublin/Bradys-Bar-Terenure/The-Bradys-Sessions/Music-2814313.htm\n",
      "http://www.entertainment.ie/show-Dublin/The-Purty-Kitchen-Dun-Laoghaire/Rub-a-Dub-Hi-Fi/Music-2809822.htm\n",
      "http://www.entertainment.ie/show-Dublin/The-Workmans-Club/Fridays-at-Workmans/Music-2811099.htm\n",
      "http://www.entertainment.ie/show-Dublin/National-Concert-Hall/RTÃ‰-NSO-Pogostkina-Plays-Khachaturian/Music-2813202.htm\n",
      "http://www.entertainment.ie/show-Dublin/National-Concert-Hall/Songs-of-a-Gypsy-Life/Music-2813200.htm\n",
      "http://www.entertainment.ie/show-Dublin/Vicar-Street/Bell-X1/Music-2807465.htm\n",
      "http://www.entertainment.ie/show-Dublin/3-Arena/Paloma-Faith/Music-2805332.htm\n",
      "http://www.entertainment.ie/show-Dublin/The-Academy/Greywind/Music-2810393.htm\n",
      "http://www.entertainment.ie/show-Dublin/Whelans/Barq/Music-2813568.htm\n",
      "http://www.entertainment.ie/show-Dublin/Hang-Dai-Chinese/Andy-Flynn-Rhythm-and-Booze-Limerick-at-Hang-Dai/Music-2812216.htm\n",
      "http://www.entertainment.ie/show-Dublin/Church-of-the-Sacred-Heart/Messiah-An-Easter-performance/Music-2813794.htm\n",
      "http://www.entertainment.ie/show-Dublin/The-Workmans-Club/Bone-Machine-Play-the-Music-of-Tom-Waits/Music-2813697.htm\n",
      "http://www.entertainment.ie/show-Dublin/The-Purty-Kitchen-Dun-Laoghaire/Cash-Returns-Live-in-Concert/Music-2809823.htm\n",
      "http://www.entertainment.ie/show-Dublin/The-Workmans-Club/Saturdays-at-Workmans/Music-2811069.htm\n",
      "http://www.entertainment.ie/show-Dublin/Vicar-Street/Bell-X1/Music-2807465.htm\n",
      "http://www.entertainment.ie/show-Dublin/Whelans/Lee-Scratch-Perry/Music-2808496.htm\n",
      "http://www.entertainment.ie/show-Dublin/3-Arena/Flight-of-the-Conchords/Music-2807275.htm\n",
      "http://www.entertainment.ie/show-Dublin/Civic-Theatre/Jerusalem-Tomorrow/Music-2811221.htm\n",
      "http://www.entertainment.ie/show-Dublin/The-Workmans-Club/Dream-Wife/Music-2808498.htm\n",
      "http://www.entertainment.ie/show-Dublin/Toners-Victorian-Bar/Strand-play-the-Alternative-Sunday-Social-Club/Music-2813914.htm\n",
      "http://www.entertainment.ie/show-Dublin/Olympia-Theatre/Anne-Marie/Music-2805847.htm\n",
      "http://www.entertainment.ie/show-Dublin/The-Workmans-Club/Karaoke-Club/Music-2810812.htm\n",
      "http://www.entertainment.ie/show-Dublin/National-Concert-Hall/Complete-Beethoven-Quartet/Music-2813203.htm\n"
     ]
    }
   ],
   "source": [
    "links =[]\n",
    "for link in entertainment.get_links():\n",
    "    print link\n",
    "    links.append(link)"
   ]
  },
  {
   "cell_type": "code",
   "execution_count": 40,
   "metadata": {},
   "outputs": [
    {
     "name": "stdout",
     "output_type": "stream",
     "text": [
      "(u'The Gloaming', u'National Concert Hall', '\\xe2\\x82\\xac40', u\"Since their formation in 2011, The Gloaming have sold out an unprecedented 17 consecutive concerts at Ireland's National Concert Hall and celebrated a Number 1 album in the Irish Charts.\", '2018-3-10 :', '')\n",
      "(u'Where We Live presented by THISISPOPBABY', u'The Complex', '', u'WHERE WE LIVE is a ferocious response to the theme of home. It\\u2019s a kaleidoscope of stories about what it feels like to live in Dublin and Ireland today, told by some of the best storytellers on the island.', '2018-3-06 :', '')\n",
      "(u'Waka Flocka Flame', u'The Sugar Club', '\\xe2\\x82\\xac22', u'Global icon and hip-hop artist is back and better than ever with his new album Flockaveli II', '2018-3-12 :', '')\n",
      "(u'Where We Live -  The High Hopes Community Choir', u'The Complex', '\\xe2\\x82\\xac10', u'Building on the success of their choral performances since 2014, the members now embark on a new journey with The Complex and its artists to present an evening of music, theatre, spoken word, visual art and poetry,', '2018-3-07 20:00', '')\n",
      "(u'Thriller Live', u'Gaiety Theatre', '\\xe2\\x82\\xac36/\\xe2\\x82\\xac46', u'You will experience over two hours of non-stop hits from pop to rock, soul to disco as the cast pay homage to Jackson\\u2019s legendary live performances and innovative dance moves executed with flair, precision and passion', '2018-3-12 19:30', '')\n",
      "(u'The Circle Sessions', u'International Bar, Dublin', '', u'A night of Spoken Word Poetry, Storytelling, Music and Performance in the International Bar, Exchequer Street, Dublin.', '2018-3-12 20:00', '')\n",
      "(u'Rejjie Snow', u'Olympia Theatre', '\\xe2\\x82\\xac22', u'His biggest UK and European headline tour to date.', '2018-3-12 :', '')\n",
      "(u'Goodnight Delia', u'The Dolmen Theatre', '\\xe2\\x82\\xac15', u\"A tender, funny & moving homage to Irish singer Delia Murphy, her life as an ambassador's wife, her stand against the Nazis in WWII & her remarkable career as Ireland's first international popstar.\", '2018-3-05 20:00', '')\n"
     ]
    },
    {
     "ename": "KeyboardInterrupt",
     "evalue": "",
     "output_type": "error",
     "traceback": [
      "\u001b[1;31m---------------------------------------------------------------------------\u001b[0m",
      "\u001b[1;31mKeyboardInterrupt\u001b[0m                         Traceback (most recent call last)",
      "\u001b[1;32m<ipython-input-40-ac89b1711de8>\u001b[0m in \u001b[0;36m<module>\u001b[1;34m()\u001b[0m\n\u001b[1;32m----> 1\u001b[1;33m \u001b[1;32mfor\u001b[0m \u001b[0minfo\u001b[0m \u001b[1;32min\u001b[0m \u001b[0mentertainment\u001b[0m\u001b[1;33m.\u001b[0m\u001b[0mget_info\u001b[0m\u001b[1;33m(\u001b[0m\u001b[1;33m)\u001b[0m\u001b[1;33m:\u001b[0m\u001b[1;33m\u001b[0m\u001b[0m\n\u001b[0m\u001b[0;32m      2\u001b[0m     \u001b[1;32mprint\u001b[0m \u001b[0minfo\u001b[0m\u001b[1;33m\u001b[0m\u001b[0m\n",
      "\u001b[1;32mC:\\Users\\Patrick\\Desktop\\frick\\2018-CA326-dbaranauskas-dublinevents\\code\\scrapers\\entertainment.pyc\u001b[0m in \u001b[0;36mget_info\u001b[1;34m()\u001b[0m\n\u001b[0;32m     57\u001b[0m         headers = {\n\u001b[0;32m     58\u001b[0m             'User-Agent': 'Mozilla/5.0 (Windows NT 10.0; Win64; x64) AppleWebKit/537.36 (KHTML, like Gecko) Chrome/63.0.3239.132 Safari/537.36'}\n\u001b[1;32m---> 59\u001b[1;33m         \u001b[0mpage_raw\u001b[0m \u001b[1;33m=\u001b[0m \u001b[0mrequests\u001b[0m\u001b[1;33m.\u001b[0m\u001b[0mget\u001b[0m\u001b[1;33m(\u001b[0m\u001b[0mlink\u001b[0m\u001b[1;33m,\u001b[0m \u001b[0mheaders\u001b[0m\u001b[1;33m=\u001b[0m\u001b[0mheaders\u001b[0m\u001b[1;33m)\u001b[0m\u001b[1;33m\u001b[0m\u001b[0m\n\u001b[0m\u001b[0;32m     60\u001b[0m         \u001b[0mpage_html\u001b[0m \u001b[1;33m=\u001b[0m \u001b[0mSoup\u001b[0m\u001b[1;33m(\u001b[0m\u001b[0mpage_raw\u001b[0m\u001b[1;33m.\u001b[0m\u001b[0mcontent\u001b[0m\u001b[1;33m,\u001b[0m \u001b[1;34m'html5lib'\u001b[0m\u001b[1;33m)\u001b[0m\u001b[1;33m\u001b[0m\u001b[0m\n\u001b[0;32m     61\u001b[0m         \u001b[0mblock\u001b[0m \u001b[1;33m=\u001b[0m \u001b[0mpage_html\u001b[0m\u001b[1;33m.\u001b[0m\u001b[0mfind\u001b[0m\u001b[1;33m(\u001b[0m\u001b[1;34m\"div\"\u001b[0m\u001b[1;33m,\u001b[0m \u001b[1;33m{\u001b[0m\u001b[1;34m\"class\"\u001b[0m\u001b[1;33m:\u001b[0m \u001b[1;34m\"listing maincol\"\u001b[0m\u001b[1;33m}\u001b[0m\u001b[1;33m)\u001b[0m\u001b[1;33m\u001b[0m\u001b[0m\n",
      "\u001b[1;32mC:\\Python27\\lib\\site-packages\\requests\\api.pyc\u001b[0m in \u001b[0;36mget\u001b[1;34m(url, params, **kwargs)\u001b[0m\n\u001b[0;32m     70\u001b[0m \u001b[1;33m\u001b[0m\u001b[0m\n\u001b[0;32m     71\u001b[0m     \u001b[0mkwargs\u001b[0m\u001b[1;33m.\u001b[0m\u001b[0msetdefault\u001b[0m\u001b[1;33m(\u001b[0m\u001b[1;34m'allow_redirects'\u001b[0m\u001b[1;33m,\u001b[0m \u001b[0mTrue\u001b[0m\u001b[1;33m)\u001b[0m\u001b[1;33m\u001b[0m\u001b[0m\n\u001b[1;32m---> 72\u001b[1;33m     \u001b[1;32mreturn\u001b[0m \u001b[0mrequest\u001b[0m\u001b[1;33m(\u001b[0m\u001b[1;34m'get'\u001b[0m\u001b[1;33m,\u001b[0m \u001b[0murl\u001b[0m\u001b[1;33m,\u001b[0m \u001b[0mparams\u001b[0m\u001b[1;33m=\u001b[0m\u001b[0mparams\u001b[0m\u001b[1;33m,\u001b[0m \u001b[1;33m**\u001b[0m\u001b[0mkwargs\u001b[0m\u001b[1;33m)\u001b[0m\u001b[1;33m\u001b[0m\u001b[0m\n\u001b[0m\u001b[0;32m     73\u001b[0m \u001b[1;33m\u001b[0m\u001b[0m\n\u001b[0;32m     74\u001b[0m \u001b[1;33m\u001b[0m\u001b[0m\n",
      "\u001b[1;32mC:\\Python27\\lib\\site-packages\\requests\\api.pyc\u001b[0m in \u001b[0;36mrequest\u001b[1;34m(method, url, **kwargs)\u001b[0m\n\u001b[0;32m     56\u001b[0m     \u001b[1;31m# cases, and look like a memory leak in others.\u001b[0m\u001b[1;33m\u001b[0m\u001b[1;33m\u001b[0m\u001b[0m\n\u001b[0;32m     57\u001b[0m     \u001b[1;32mwith\u001b[0m \u001b[0msessions\u001b[0m\u001b[1;33m.\u001b[0m\u001b[0mSession\u001b[0m\u001b[1;33m(\u001b[0m\u001b[1;33m)\u001b[0m \u001b[1;32mas\u001b[0m \u001b[0msession\u001b[0m\u001b[1;33m:\u001b[0m\u001b[1;33m\u001b[0m\u001b[0m\n\u001b[1;32m---> 58\u001b[1;33m         \u001b[1;32mreturn\u001b[0m \u001b[0msession\u001b[0m\u001b[1;33m.\u001b[0m\u001b[0mrequest\u001b[0m\u001b[1;33m(\u001b[0m\u001b[0mmethod\u001b[0m\u001b[1;33m=\u001b[0m\u001b[0mmethod\u001b[0m\u001b[1;33m,\u001b[0m \u001b[0murl\u001b[0m\u001b[1;33m=\u001b[0m\u001b[0murl\u001b[0m\u001b[1;33m,\u001b[0m \u001b[1;33m**\u001b[0m\u001b[0mkwargs\u001b[0m\u001b[1;33m)\u001b[0m\u001b[1;33m\u001b[0m\u001b[0m\n\u001b[0m\u001b[0;32m     59\u001b[0m \u001b[1;33m\u001b[0m\u001b[0m\n\u001b[0;32m     60\u001b[0m \u001b[1;33m\u001b[0m\u001b[0m\n",
      "\u001b[1;32mC:\\Python27\\lib\\site-packages\\requests\\sessions.pyc\u001b[0m in \u001b[0;36mrequest\u001b[1;34m(self, method, url, params, data, headers, cookies, files, auth, timeout, allow_redirects, proxies, hooks, stream, verify, cert, json)\u001b[0m\n\u001b[0;32m    506\u001b[0m         }\n\u001b[0;32m    507\u001b[0m         \u001b[0msend_kwargs\u001b[0m\u001b[1;33m.\u001b[0m\u001b[0mupdate\u001b[0m\u001b[1;33m(\u001b[0m\u001b[0msettings\u001b[0m\u001b[1;33m)\u001b[0m\u001b[1;33m\u001b[0m\u001b[0m\n\u001b[1;32m--> 508\u001b[1;33m         \u001b[0mresp\u001b[0m \u001b[1;33m=\u001b[0m \u001b[0mself\u001b[0m\u001b[1;33m.\u001b[0m\u001b[0msend\u001b[0m\u001b[1;33m(\u001b[0m\u001b[0mprep\u001b[0m\u001b[1;33m,\u001b[0m \u001b[1;33m**\u001b[0m\u001b[0msend_kwargs\u001b[0m\u001b[1;33m)\u001b[0m\u001b[1;33m\u001b[0m\u001b[0m\n\u001b[0m\u001b[0;32m    509\u001b[0m \u001b[1;33m\u001b[0m\u001b[0m\n\u001b[0;32m    510\u001b[0m         \u001b[1;32mreturn\u001b[0m \u001b[0mresp\u001b[0m\u001b[1;33m\u001b[0m\u001b[0m\n",
      "\u001b[1;32mC:\\Python27\\lib\\site-packages\\requests\\sessions.pyc\u001b[0m in \u001b[0;36msend\u001b[1;34m(self, request, **kwargs)\u001b[0m\n\u001b[0;32m    638\u001b[0m \u001b[1;33m\u001b[0m\u001b[0m\n\u001b[0;32m    639\u001b[0m         \u001b[1;31m# Resolve redirects if allowed.\u001b[0m\u001b[1;33m\u001b[0m\u001b[1;33m\u001b[0m\u001b[0m\n\u001b[1;32m--> 640\u001b[1;33m         \u001b[0mhistory\u001b[0m \u001b[1;33m=\u001b[0m \u001b[1;33m[\u001b[0m\u001b[0mresp\u001b[0m \u001b[1;32mfor\u001b[0m \u001b[0mresp\u001b[0m \u001b[1;32min\u001b[0m \u001b[0mgen\u001b[0m\u001b[1;33m]\u001b[0m \u001b[1;32mif\u001b[0m \u001b[0mallow_redirects\u001b[0m \u001b[1;32melse\u001b[0m \u001b[1;33m[\u001b[0m\u001b[1;33m]\u001b[0m\u001b[1;33m\u001b[0m\u001b[0m\n\u001b[0m\u001b[0;32m    641\u001b[0m \u001b[1;33m\u001b[0m\u001b[0m\n\u001b[0;32m    642\u001b[0m         \u001b[1;31m# Shuffle things around if there's history.\u001b[0m\u001b[1;33m\u001b[0m\u001b[1;33m\u001b[0m\u001b[0m\n",
      "\u001b[1;32mC:\\Python27\\lib\\site-packages\\requests\\sessions.pyc\u001b[0m in \u001b[0;36mresolve_redirects\u001b[1;34m(self, resp, req, stream, timeout, verify, cert, proxies, yield_requests, **adapter_kwargs)\u001b[0m\n\u001b[0;32m    216\u001b[0m                     \u001b[0mproxies\u001b[0m\u001b[1;33m=\u001b[0m\u001b[0mproxies\u001b[0m\u001b[1;33m,\u001b[0m\u001b[1;33m\u001b[0m\u001b[0m\n\u001b[0;32m    217\u001b[0m                     \u001b[0mallow_redirects\u001b[0m\u001b[1;33m=\u001b[0m\u001b[0mFalse\u001b[0m\u001b[1;33m,\u001b[0m\u001b[1;33m\u001b[0m\u001b[0m\n\u001b[1;32m--> 218\u001b[1;33m                     \u001b[1;33m**\u001b[0m\u001b[0madapter_kwargs\u001b[0m\u001b[1;33m\u001b[0m\u001b[0m\n\u001b[0m\u001b[0;32m    219\u001b[0m                 )\n\u001b[0;32m    220\u001b[0m \u001b[1;33m\u001b[0m\u001b[0m\n",
      "\u001b[1;32mC:\\Python27\\lib\\site-packages\\requests\\sessions.pyc\u001b[0m in \u001b[0;36msend\u001b[1;34m(self, request, **kwargs)\u001b[0m\n\u001b[0;32m    616\u001b[0m \u001b[1;33m\u001b[0m\u001b[0m\n\u001b[0;32m    617\u001b[0m         \u001b[1;31m# Send the request\u001b[0m\u001b[1;33m\u001b[0m\u001b[1;33m\u001b[0m\u001b[0m\n\u001b[1;32m--> 618\u001b[1;33m         \u001b[0mr\u001b[0m \u001b[1;33m=\u001b[0m \u001b[0madapter\u001b[0m\u001b[1;33m.\u001b[0m\u001b[0msend\u001b[0m\u001b[1;33m(\u001b[0m\u001b[0mrequest\u001b[0m\u001b[1;33m,\u001b[0m \u001b[1;33m**\u001b[0m\u001b[0mkwargs\u001b[0m\u001b[1;33m)\u001b[0m\u001b[1;33m\u001b[0m\u001b[0m\n\u001b[0m\u001b[0;32m    619\u001b[0m \u001b[1;33m\u001b[0m\u001b[0m\n\u001b[0;32m    620\u001b[0m         \u001b[1;31m# Total elapsed time of the request (approximately)\u001b[0m\u001b[1;33m\u001b[0m\u001b[1;33m\u001b[0m\u001b[0m\n",
      "\u001b[1;32mC:\\Python27\\lib\\site-packages\\requests\\adapters.pyc\u001b[0m in \u001b[0;36msend\u001b[1;34m(self, request, stream, timeout, verify, cert, proxies)\u001b[0m\n\u001b[0;32m    438\u001b[0m                     \u001b[0mdecode_content\u001b[0m\u001b[1;33m=\u001b[0m\u001b[0mFalse\u001b[0m\u001b[1;33m,\u001b[0m\u001b[1;33m\u001b[0m\u001b[0m\n\u001b[0;32m    439\u001b[0m                     \u001b[0mretries\u001b[0m\u001b[1;33m=\u001b[0m\u001b[0mself\u001b[0m\u001b[1;33m.\u001b[0m\u001b[0mmax_retries\u001b[0m\u001b[1;33m,\u001b[0m\u001b[1;33m\u001b[0m\u001b[0m\n\u001b[1;32m--> 440\u001b[1;33m                     \u001b[0mtimeout\u001b[0m\u001b[1;33m=\u001b[0m\u001b[0mtimeout\u001b[0m\u001b[1;33m\u001b[0m\u001b[0m\n\u001b[0m\u001b[0;32m    441\u001b[0m                 )\n\u001b[0;32m    442\u001b[0m \u001b[1;33m\u001b[0m\u001b[0m\n",
      "\u001b[1;32mC:\\Python27\\lib\\site-packages\\urllib3\\connectionpool.pyc\u001b[0m in \u001b[0;36murlopen\u001b[1;34m(self, method, url, body, headers, retries, redirect, assert_same_host, timeout, pool_timeout, release_conn, chunked, body_pos, **response_kw)\u001b[0m\n\u001b[0;32m    599\u001b[0m                                                   \u001b[0mtimeout\u001b[0m\u001b[1;33m=\u001b[0m\u001b[0mtimeout_obj\u001b[0m\u001b[1;33m,\u001b[0m\u001b[1;33m\u001b[0m\u001b[0m\n\u001b[0;32m    600\u001b[0m                                                   \u001b[0mbody\u001b[0m\u001b[1;33m=\u001b[0m\u001b[0mbody\u001b[0m\u001b[1;33m,\u001b[0m \u001b[0mheaders\u001b[0m\u001b[1;33m=\u001b[0m\u001b[0mheaders\u001b[0m\u001b[1;33m,\u001b[0m\u001b[1;33m\u001b[0m\u001b[0m\n\u001b[1;32m--> 601\u001b[1;33m                                                   chunked=chunked)\n\u001b[0m\u001b[0;32m    602\u001b[0m \u001b[1;33m\u001b[0m\u001b[0m\n\u001b[0;32m    603\u001b[0m             \u001b[1;31m# If we're going to release the connection in ``finally:``, then\u001b[0m\u001b[1;33m\u001b[0m\u001b[1;33m\u001b[0m\u001b[0m\n",
      "\u001b[1;32mC:\\Python27\\lib\\site-packages\\urllib3\\connectionpool.pyc\u001b[0m in \u001b[0;36m_make_request\u001b[1;34m(self, conn, method, url, timeout, chunked, **httplib_request_kw)\u001b[0m\n\u001b[0;32m    378\u001b[0m         \u001b[1;32mtry\u001b[0m\u001b[1;33m:\u001b[0m\u001b[1;33m\u001b[0m\u001b[0m\n\u001b[0;32m    379\u001b[0m             \u001b[1;32mtry\u001b[0m\u001b[1;33m:\u001b[0m  \u001b[1;31m# Python 2.7, use buffering of HTTP responses\u001b[0m\u001b[1;33m\u001b[0m\u001b[0m\n\u001b[1;32m--> 380\u001b[1;33m                 \u001b[0mhttplib_response\u001b[0m \u001b[1;33m=\u001b[0m \u001b[0mconn\u001b[0m\u001b[1;33m.\u001b[0m\u001b[0mgetresponse\u001b[0m\u001b[1;33m(\u001b[0m\u001b[0mbuffering\u001b[0m\u001b[1;33m=\u001b[0m\u001b[0mTrue\u001b[0m\u001b[1;33m)\u001b[0m\u001b[1;33m\u001b[0m\u001b[0m\n\u001b[0m\u001b[0;32m    381\u001b[0m             \u001b[1;32mexcept\u001b[0m \u001b[0mTypeError\u001b[0m\u001b[1;33m:\u001b[0m  \u001b[1;31m# Python 2.6 and older, Python 3\u001b[0m\u001b[1;33m\u001b[0m\u001b[0m\n\u001b[0;32m    382\u001b[0m                 \u001b[1;32mtry\u001b[0m\u001b[1;33m:\u001b[0m\u001b[1;33m\u001b[0m\u001b[0m\n",
      "\u001b[1;32mC:\\Python27\\lib\\httplib.pyc\u001b[0m in \u001b[0;36mgetresponse\u001b[1;34m(self, buffering)\u001b[0m\n\u001b[0;32m   1119\u001b[0m \u001b[1;33m\u001b[0m\u001b[0m\n\u001b[0;32m   1120\u001b[0m         \u001b[1;32mtry\u001b[0m\u001b[1;33m:\u001b[0m\u001b[1;33m\u001b[0m\u001b[0m\n\u001b[1;32m-> 1121\u001b[1;33m             \u001b[0mresponse\u001b[0m\u001b[1;33m.\u001b[0m\u001b[0mbegin\u001b[0m\u001b[1;33m(\u001b[0m\u001b[1;33m)\u001b[0m\u001b[1;33m\u001b[0m\u001b[0m\n\u001b[0m\u001b[0;32m   1122\u001b[0m             \u001b[1;32massert\u001b[0m \u001b[0mresponse\u001b[0m\u001b[1;33m.\u001b[0m\u001b[0mwill_close\u001b[0m \u001b[1;33m!=\u001b[0m \u001b[0m_UNKNOWN\u001b[0m\u001b[1;33m\u001b[0m\u001b[0m\n\u001b[0;32m   1123\u001b[0m             \u001b[0mself\u001b[0m\u001b[1;33m.\u001b[0m\u001b[0m__state\u001b[0m \u001b[1;33m=\u001b[0m \u001b[0m_CS_IDLE\u001b[0m\u001b[1;33m\u001b[0m\u001b[0m\n",
      "\u001b[1;32mC:\\Python27\\lib\\httplib.pyc\u001b[0m in \u001b[0;36mbegin\u001b[1;34m(self)\u001b[0m\n\u001b[0;32m    436\u001b[0m         \u001b[1;31m# read until we get a non-100 response\u001b[0m\u001b[1;33m\u001b[0m\u001b[1;33m\u001b[0m\u001b[0m\n\u001b[0;32m    437\u001b[0m         \u001b[1;32mwhile\u001b[0m \u001b[0mTrue\u001b[0m\u001b[1;33m:\u001b[0m\u001b[1;33m\u001b[0m\u001b[0m\n\u001b[1;32m--> 438\u001b[1;33m             \u001b[0mversion\u001b[0m\u001b[1;33m,\u001b[0m \u001b[0mstatus\u001b[0m\u001b[1;33m,\u001b[0m \u001b[0mreason\u001b[0m \u001b[1;33m=\u001b[0m \u001b[0mself\u001b[0m\u001b[1;33m.\u001b[0m\u001b[0m_read_status\u001b[0m\u001b[1;33m(\u001b[0m\u001b[1;33m)\u001b[0m\u001b[1;33m\u001b[0m\u001b[0m\n\u001b[0m\u001b[0;32m    439\u001b[0m             \u001b[1;32mif\u001b[0m \u001b[0mstatus\u001b[0m \u001b[1;33m!=\u001b[0m \u001b[0mCONTINUE\u001b[0m\u001b[1;33m:\u001b[0m\u001b[1;33m\u001b[0m\u001b[0m\n\u001b[0;32m    440\u001b[0m                 \u001b[1;32mbreak\u001b[0m\u001b[1;33m\u001b[0m\u001b[0m\n",
      "\u001b[1;32mC:\\Python27\\lib\\httplib.pyc\u001b[0m in \u001b[0;36m_read_status\u001b[1;34m(self)\u001b[0m\n\u001b[0;32m    392\u001b[0m     \u001b[1;32mdef\u001b[0m \u001b[0m_read_status\u001b[0m\u001b[1;33m(\u001b[0m\u001b[0mself\u001b[0m\u001b[1;33m)\u001b[0m\u001b[1;33m:\u001b[0m\u001b[1;33m\u001b[0m\u001b[0m\n\u001b[0;32m    393\u001b[0m         \u001b[1;31m# Initialize with Simple-Response defaults\u001b[0m\u001b[1;33m\u001b[0m\u001b[1;33m\u001b[0m\u001b[0m\n\u001b[1;32m--> 394\u001b[1;33m         \u001b[0mline\u001b[0m \u001b[1;33m=\u001b[0m \u001b[0mself\u001b[0m\u001b[1;33m.\u001b[0m\u001b[0mfp\u001b[0m\u001b[1;33m.\u001b[0m\u001b[0mreadline\u001b[0m\u001b[1;33m(\u001b[0m\u001b[0m_MAXLINE\u001b[0m \u001b[1;33m+\u001b[0m \u001b[1;36m1\u001b[0m\u001b[1;33m)\u001b[0m\u001b[1;33m\u001b[0m\u001b[0m\n\u001b[0m\u001b[0;32m    395\u001b[0m         \u001b[1;32mif\u001b[0m \u001b[0mlen\u001b[0m\u001b[1;33m(\u001b[0m\u001b[0mline\u001b[0m\u001b[1;33m)\u001b[0m \u001b[1;33m>\u001b[0m \u001b[0m_MAXLINE\u001b[0m\u001b[1;33m:\u001b[0m\u001b[1;33m\u001b[0m\u001b[0m\n\u001b[0;32m    396\u001b[0m             \u001b[1;32mraise\u001b[0m \u001b[0mLineTooLong\u001b[0m\u001b[1;33m(\u001b[0m\u001b[1;34m\"header line\"\u001b[0m\u001b[1;33m)\u001b[0m\u001b[1;33m\u001b[0m\u001b[0m\n",
      "\u001b[1;32mC:\\Python27\\lib\\socket.pyc\u001b[0m in \u001b[0;36mreadline\u001b[1;34m(self, size)\u001b[0m\n\u001b[0;32m    478\u001b[0m             \u001b[1;32mwhile\u001b[0m \u001b[0mTrue\u001b[0m\u001b[1;33m:\u001b[0m\u001b[1;33m\u001b[0m\u001b[0m\n\u001b[0;32m    479\u001b[0m                 \u001b[1;32mtry\u001b[0m\u001b[1;33m:\u001b[0m\u001b[1;33m\u001b[0m\u001b[0m\n\u001b[1;32m--> 480\u001b[1;33m                     \u001b[0mdata\u001b[0m \u001b[1;33m=\u001b[0m \u001b[0mself\u001b[0m\u001b[1;33m.\u001b[0m\u001b[0m_sock\u001b[0m\u001b[1;33m.\u001b[0m\u001b[0mrecv\u001b[0m\u001b[1;33m(\u001b[0m\u001b[0mself\u001b[0m\u001b[1;33m.\u001b[0m\u001b[0m_rbufsize\u001b[0m\u001b[1;33m)\u001b[0m\u001b[1;33m\u001b[0m\u001b[0m\n\u001b[0m\u001b[0;32m    481\u001b[0m                 \u001b[1;32mexcept\u001b[0m \u001b[0merror\u001b[0m\u001b[1;33m,\u001b[0m \u001b[0me\u001b[0m\u001b[1;33m:\u001b[0m\u001b[1;33m\u001b[0m\u001b[0m\n\u001b[0;32m    482\u001b[0m                     \u001b[1;32mif\u001b[0m \u001b[0me\u001b[0m\u001b[1;33m.\u001b[0m\u001b[0margs\u001b[0m\u001b[1;33m[\u001b[0m\u001b[1;36m0\u001b[0m\u001b[1;33m]\u001b[0m \u001b[1;33m==\u001b[0m \u001b[0mEINTR\u001b[0m\u001b[1;33m:\u001b[0m\u001b[1;33m\u001b[0m\u001b[0m\n",
      "\u001b[1;31mKeyboardInterrupt\u001b[0m: "
     ]
    }
   ],
   "source": [
    "for info in entertainment.get_info():\n",
    "    print info"
   ]
  },
  {
   "cell_type": "code",
   "execution_count": 47,
   "metadata": {},
   "outputs": [
    {
     "name": "stdout",
     "output_type": "stream",
     "text": [
      "Connected to database\n",
      "Finished with database\n"
     ]
    }
   ],
   "source": [
    "with db:\n",
    "    db.add_to_db_event((u'Waka Flocka Flame', u'The Sugar Club', '\\xe2\\x82\\xac22', u'Global icon and hip-hop artist is back and better than ever with his new album Flockaveli II', '2018-3-12 :', ''))"
   ]
  },
  {
   "cell_type": "code",
   "execution_count": 48,
   "metadata": {},
   "outputs": [
    {
     "name": "stdout",
     "output_type": "stream",
     "text": [
      "Error: 1062 (23000): Duplicate entry 'Waka Flocka Flame-The Sugar Club-2018-03-12 00:00:00' for key 'PRIMARY'\n",
      "\n"
     ]
    }
   ],
   "source": [
    "print db.output"
   ]
  },
  {
   "cell_type": "code",
   "execution_count": null,
   "metadata": {},
   "outputs": [],
   "source": []
  }
 ],
 "metadata": {
  "kernelspec": {
   "display_name": "Python 2",
   "language": "python",
   "name": "python2"
  },
  "language_info": {
   "codemirror_mode": {
    "name": "ipython",
    "version": 2
   },
   "file_extension": ".py",
   "mimetype": "text/x-python",
   "name": "python",
   "nbconvert_exporter": "python",
   "pygments_lexer": "ipython2",
   "version": "2.7.14"
  }
 },
 "nbformat": 4,
 "nbformat_minor": 2
}
